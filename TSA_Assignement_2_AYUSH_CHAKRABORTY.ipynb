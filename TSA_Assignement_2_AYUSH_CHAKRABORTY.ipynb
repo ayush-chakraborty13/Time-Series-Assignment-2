{
  "cells": [
    {
      "cell_type": "markdown",
      "id": "dfb89b1d",
      "metadata": {
        "id": "dfb89b1d"
      },
      "source": [
        "# Name: AYUSH CHAKRABORTY\n",
        "\n",
        "# ID: 25PGAI0112"
      ]
    },
    {
      "cell_type": "markdown",
      "id": "c3ed1352",
      "metadata": {
        "id": "c3ed1352"
      },
      "source": [
        "## Import Libraries"
      ]
    },
    {
      "cell_type": "code",
      "execution_count": null,
      "id": "ba9c52ac",
      "metadata": {
        "id": "ba9c52ac"
      },
      "outputs": [],
      "source": [
        "import warnings\n",
        "\n",
        "#Command to not show warnings\n",
        "warnings.filterwarnings(\"ignore\")"
      ]
    },
    {
      "cell_type": "code",
      "execution_count": null,
      "id": "ac063794",
      "metadata": {
        "id": "ac063794"
      },
      "outputs": [],
      "source": [
        "from statsmodels.tsa.seasonal import seasonal_decompose\n",
        "from statsmodels.tsa.stattools import adfuller, kpss\n",
        "from statsmodels.stats.diagnostic import acorr_ljungbox\n",
        "from statsmodels.tsa.base import datetools\n",
        "from statsmodels.graphics.tsaplots import plot_acf, plot_pacf\n",
        "from scipy.stats import boxcox\n",
        "from scipy.special import inv_boxcox\n",
        "from statsforecast import StatsForecast\n",
        "from statsmodels.tsa.arima.model import ARIMA as sm_arima\n",
        "from statsforecast.models import ARIMA as sf_arima, SeasonalNaive, AutoARIMA, RandomWalkWithDrift\n",
        "from sklearn.metrics import mean_absolute_percentage_error\n",
        "\n",
        "from sklearn.preprocessing import StandardScaler\n",
        "\n",
        "import pandas as pd\n",
        "import numpy as np\n",
        "import matplotlib.pyplot as plt\n",
        "import statsmodels.api as sm\n",
        "import seaborn as sns\n",
        "\n",
        "from statsmodels.tsa.seasonal import seasonal_decompose\n",
        "from statsmodels.tsa.stattools import adfuller, kpss, grangercausalitytests\n",
        "from statsmodels.tsa.api import VAR\n",
        "from statsmodels.stats.diagnostic import acorr_ljungbox\n",
        "from statsmodels.tsa.base import datetools\n",
        "from statsmodels.graphics.tsaplots import plot_acf, plot_pacf\n",
        "from statsforecast import StatsForecast\n",
        "from statsmodels.tsa.arima.model import ARIMA as sm_arima\n",
        "from statsforecast.models import ARIMA as sf_arima, AutoARIMA, SeasonalNaive, RandomWalkWithDrift\n",
        "from prophet import Prophet\n",
        "\n",
        "import pandas as pd\n",
        "import numpy as np\n",
        "import matplotlib.pyplot as plt\n",
        "import statsmodels.api as sm\n",
        "import seaborn as sns"
      ]
    },
    {
      "cell_type": "markdown",
      "id": "ed35e737",
      "metadata": {
        "id": "ed35e737"
      },
      "source": [
        "# Q2. Using the stocks.csv dataset, answer the following questions."
      ]
    },
    {
      "cell_type": "markdown",
      "id": "c5472d18",
      "metadata": {
        "id": "c5472d18"
      },
      "source": [
        "### Loading Dataset"
      ]
    },
    {
      "cell_type": "code",
      "execution_count": null,
      "id": "57b6bd8c",
      "metadata": {
        "id": "57b6bd8c",
        "outputId": "63d14035-3b73-4078-980d-a9aff10d74bc"
      },
      "outputs": [
        {
          "data": {
            "text/html": [
              "<div>\n",
              "<style scoped>\n",
              "    .dataframe tbody tr th:only-of-type {\n",
              "        vertical-align: middle;\n",
              "    }\n",
              "\n",
              "    .dataframe tbody tr th {\n",
              "        vertical-align: top;\n",
              "    }\n",
              "\n",
              "    .dataframe thead th {\n",
              "        text-align: right;\n",
              "    }\n",
              "</style>\n",
              "<table border=\"1\" class=\"dataframe\">\n",
              "  <thead>\n",
              "    <tr style=\"text-align: right;\">\n",
              "      <th></th>\n",
              "      <th>Open</th>\n",
              "      <th>High</th>\n",
              "      <th>Low</th>\n",
              "      <th>Close</th>\n",
              "      <th>Volume</th>\n",
              "      <th>Name</th>\n",
              "    </tr>\n",
              "    <tr>\n",
              "      <th>Date</th>\n",
              "      <th></th>\n",
              "      <th></th>\n",
              "      <th></th>\n",
              "      <th></th>\n",
              "      <th></th>\n",
              "      <th></th>\n",
              "    </tr>\n",
              "  </thead>\n",
              "  <tbody>\n",
              "    <tr>\n",
              "      <th>2006-01-03</th>\n",
              "      <td>77.76</td>\n",
              "      <td>79.35</td>\n",
              "      <td>77.24</td>\n",
              "      <td>79.11</td>\n",
              "      <td>3117200</td>\n",
              "      <td>MMM</td>\n",
              "    </tr>\n",
              "    <tr>\n",
              "      <th>2006-01-04</th>\n",
              "      <td>79.49</td>\n",
              "      <td>79.49</td>\n",
              "      <td>78.25</td>\n",
              "      <td>78.71</td>\n",
              "      <td>2558000</td>\n",
              "      <td>MMM</td>\n",
              "    </tr>\n",
              "    <tr>\n",
              "      <th>2006-01-05</th>\n",
              "      <td>78.41</td>\n",
              "      <td>78.65</td>\n",
              "      <td>77.56</td>\n",
              "      <td>77.99</td>\n",
              "      <td>2529500</td>\n",
              "      <td>MMM</td>\n",
              "    </tr>\n",
              "    <tr>\n",
              "      <th>2006-01-06</th>\n",
              "      <td>78.64</td>\n",
              "      <td>78.90</td>\n",
              "      <td>77.64</td>\n",
              "      <td>78.63</td>\n",
              "      <td>2479500</td>\n",
              "      <td>MMM</td>\n",
              "    </tr>\n",
              "    <tr>\n",
              "      <th>2006-01-09</th>\n",
              "      <td>78.50</td>\n",
              "      <td>79.83</td>\n",
              "      <td>78.46</td>\n",
              "      <td>79.02</td>\n",
              "      <td>1845600</td>\n",
              "      <td>MMM</td>\n",
              "    </tr>\n",
              "  </tbody>\n",
              "</table>\n",
              "</div>"
            ],
            "text/plain": [
              "             Open   High    Low  Close   Volume Name\n",
              "Date                                                \n",
              "2006-01-03  77.76  79.35  77.24  79.11  3117200  MMM\n",
              "2006-01-04  79.49  79.49  78.25  78.71  2558000  MMM\n",
              "2006-01-05  78.41  78.65  77.56  77.99  2529500  MMM\n",
              "2006-01-06  78.64  78.90  77.64  78.63  2479500  MMM\n",
              "2006-01-09  78.50  79.83  78.46  79.02  1845600  MMM"
            ]
          },
          "execution_count": 3,
          "metadata": {},
          "output_type": "execute_result"
        }
      ],
      "source": [
        "#Import dataset\n",
        "df = pd.read_csv('stocks.csv')\n",
        "df.set_index('Date', inplace = True)\n",
        "df.head()"
      ]
    },
    {
      "cell_type": "code",
      "execution_count": null,
      "id": "92683cd9",
      "metadata": {
        "id": "92683cd9",
        "outputId": "c0cbe65e-6a03-4949-c2cb-cf19c6799b83"
      },
      "outputs": [
        {
          "name": "stdout",
          "output_type": "stream",
          "text": [
            "<class 'pandas.core.frame.DataFrame'>\n",
            "Index: 93612 entries, 2006-01-03 to 2017-12-29\n",
            "Data columns (total 6 columns):\n",
            " #   Column  Non-Null Count  Dtype  \n",
            "---  ------  --------------  -----  \n",
            " 0   Open    93587 non-null  float64\n",
            " 1   High    93602 non-null  float64\n",
            " 2   Low     93592 non-null  float64\n",
            " 3   Close   93612 non-null  float64\n",
            " 4   Volume  93612 non-null  int64  \n",
            " 5   Name    93612 non-null  object \n",
            "dtypes: float64(4), int64(1), object(1)\n",
            "memory usage: 5.0+ MB\n"
          ]
        }
      ],
      "source": [
        "df.info()"
      ]
    },
    {
      "cell_type": "code",
      "execution_count": null,
      "id": "0f73a92b",
      "metadata": {
        "id": "0f73a92b",
        "outputId": "31ec320c-1558-4389-db32-a73cea784064"
      },
      "outputs": [
        {
          "data": {
            "text/html": [
              "<div>\n",
              "<style scoped>\n",
              "    .dataframe tbody tr th:only-of-type {\n",
              "        vertical-align: middle;\n",
              "    }\n",
              "\n",
              "    .dataframe tbody tr th {\n",
              "        vertical-align: top;\n",
              "    }\n",
              "\n",
              "    .dataframe thead th {\n",
              "        text-align: right;\n",
              "    }\n",
              "</style>\n",
              "<table border=\"1\" class=\"dataframe\">\n",
              "  <thead>\n",
              "    <tr style=\"text-align: right;\">\n",
              "      <th></th>\n",
              "      <th>Open</th>\n",
              "      <th>High</th>\n",
              "      <th>Low</th>\n",
              "      <th>Close</th>\n",
              "      <th>Volume</th>\n",
              "      <th>Name</th>\n",
              "    </tr>\n",
              "    <tr>\n",
              "      <th>Date</th>\n",
              "      <th></th>\n",
              "      <th></th>\n",
              "      <th></th>\n",
              "      <th></th>\n",
              "      <th></th>\n",
              "      <th></th>\n",
              "    </tr>\n",
              "  </thead>\n",
              "  <tbody>\n",
              "    <tr>\n",
              "      <th>2017-12-22</th>\n",
              "      <td>71.42</td>\n",
              "      <td>71.87</td>\n",
              "      <td>71.22</td>\n",
              "      <td>71.58</td>\n",
              "      <td>10979165</td>\n",
              "      <td>AABA</td>\n",
              "    </tr>\n",
              "    <tr>\n",
              "      <th>2017-12-26</th>\n",
              "      <td>70.94</td>\n",
              "      <td>71.39</td>\n",
              "      <td>69.63</td>\n",
              "      <td>69.86</td>\n",
              "      <td>8542802</td>\n",
              "      <td>AABA</td>\n",
              "    </tr>\n",
              "    <tr>\n",
              "      <th>2017-12-27</th>\n",
              "      <td>69.77</td>\n",
              "      <td>70.49</td>\n",
              "      <td>69.69</td>\n",
              "      <td>70.06</td>\n",
              "      <td>6345124</td>\n",
              "      <td>AABA</td>\n",
              "    </tr>\n",
              "    <tr>\n",
              "      <th>2017-12-28</th>\n",
              "      <td>70.12</td>\n",
              "      <td>70.32</td>\n",
              "      <td>69.51</td>\n",
              "      <td>69.82</td>\n",
              "      <td>7556877</td>\n",
              "      <td>AABA</td>\n",
              "    </tr>\n",
              "    <tr>\n",
              "      <th>2017-12-29</th>\n",
              "      <td>69.79</td>\n",
              "      <td>70.13</td>\n",
              "      <td>69.43</td>\n",
              "      <td>69.85</td>\n",
              "      <td>6613070</td>\n",
              "      <td>AABA</td>\n",
              "    </tr>\n",
              "  </tbody>\n",
              "</table>\n",
              "</div>"
            ],
            "text/plain": [
              "             Open   High    Low  Close    Volume  Name\n",
              "Date                                                  \n",
              "2017-12-22  71.42  71.87  71.22  71.58  10979165  AABA\n",
              "2017-12-26  70.94  71.39  69.63  69.86   8542802  AABA\n",
              "2017-12-27  69.77  70.49  69.69  70.06   6345124  AABA\n",
              "2017-12-28  70.12  70.32  69.51  69.82   7556877  AABA\n",
              "2017-12-29  69.79  70.13  69.43  69.85   6613070  AABA"
            ]
          },
          "execution_count": 5,
          "metadata": {},
          "output_type": "execute_result"
        }
      ],
      "source": [
        "df.tail()"
      ]
    },
    {
      "cell_type": "markdown",
      "id": "3197ccf7",
      "metadata": {
        "id": "3197ccf7"
      },
      "source": [
        "### a. Apply a Box-Cox transformation for the trading volume of Apple stock (Ticker: AAPL) using the most appropriate λ value and visualize the transformed series. (10 marks)"
      ]
    },
    {
      "cell_type": "code",
      "execution_count": null,
      "id": "a46b355f",
      "metadata": {
        "id": "a46b355f",
        "outputId": "84115b21-309e-40b5-ca57-99bded116ae1"
      },
      "outputs": [
        {
          "data": {
            "text/plain": [
              "Date\n",
              "2006-01-03    201853036\n",
              "2006-01-04    155225609\n",
              "Name: Volume, dtype: int64"
            ]
          },
          "execution_count": 6,
          "metadata": {},
          "output_type": "execute_result"
        }
      ],
      "source": [
        "# Extract the trading volume for Apple (AAPL)\n",
        "aapl_volume = df[df['Name'] == 'AAPL']['Volume']\n",
        "aapl_volume.head(2)"
      ]
    },
    {
      "cell_type": "markdown",
      "id": "cc6be7ca",
      "metadata": {
        "id": "cc6be7ca"
      },
      "source": [
        "#### Find out optimal lambda"
      ]
    },
    {
      "cell_type": "code",
      "execution_count": null,
      "id": "3223bdac",
      "metadata": {
        "id": "3223bdac",
        "outputId": "774aabcb-347d-4399-ad9f-60f6c844dc18"
      },
      "outputs": [
        {
          "name": "stdout",
          "output_type": "stream",
          "text": [
            "The optimal lambda for Box-Cox transformation is: 0.13044212847998668\n"
          ]
        }
      ],
      "source": [
        "#The boxcox function returns two values, (i) the transformed data and (ii) the optimal lambda\n",
        "y_boxcox, lamda = boxcox(aapl_volume)\n",
        "print(f\"The optimal lambda for Box-Cox transformation is: {lamda}\")"
      ]
    },
    {
      "cell_type": "markdown",
      "id": "8b28797a",
      "metadata": {
        "id": "8b28797a"
      },
      "source": [
        "#### Plotting the Graph"
      ]
    },
    {
      "cell_type": "code",
      "execution_count": null,
      "id": "b992d1c4",
      "metadata": {
        "id": "b992d1c4",
        "outputId": "798e70c3-eabe-4923-9ca6-1746ab232487"
      },
      "outputs": [
        {
          "data": {
            "image/png": "[encoded data removed]",
            "text/plain": [
              "<Figure size 864x432 with 1 Axes>"
            ]
          },
          "metadata": {
            "needs_background": "light"
          },
          "output_type": "display_data"
        }
      ],
      "source": [
        "plt.figure(figsize=(12, 6))\n",
        "plt.plot(y_boxcox)\n",
        "plt.title('Box-Cox Transformed Trading Volume of AAPL')\n",
        "plt.xlabel('Time')\n",
        "plt.ylabel('Transformed Volume')\n",
        "plt.show()\n"
      ]
    },
    {
      "cell_type": "code",
      "execution_count": null,
      "id": "1ce7b298",
      "metadata": {
        "id": "1ce7b298",
        "outputId": "6691e9f0-8142-48ca-c919-804f920c4ccd"
      },
      "outputs": [
        {
          "data": {
            "image/png": "[encoded data removed]",
            "text/plain": [
              "<Figure size 864x432 with 1 Axes>"
            ]
          },
          "metadata": {
            "needs_background": "light"
          },
          "output_type": "display_data"
        }
      ],
      "source": [
        "plt.figure(figsize=(12, 6))\n",
        "plt.plot(aapl_volume)\n",
        "plt.title('Original Trading Volume of AAPL')\n",
        "plt.xlabel('Time')\n",
        "plt.ylabel('Transformed Volume')\n",
        "plt.show()\n",
        "\n"
      ]
    },
    {
      "cell_type": "markdown",
      "id": "d0965698",
      "metadata": {
        "id": "d0965698"
      },
      "source": [
        "### b. Test whether the high price of Google stock (Ticker: GOOG) is stationary using Augmented Dickey Fuller test, and make stationary using appropriate differencing. Test again to confirm that the time series has become stationary. (10 marks)"
      ]
    },
    {
      "cell_type": "code",
      "execution_count": null,
      "id": "b994c32d",
      "metadata": {
        "id": "b994c32d",
        "outputId": "f2fbf2e7-b0c0-4a76-c989-6c10eed33add"
      },
      "outputs": [
        {
          "data": {
            "text/plain": [
              "Date\n",
              "2006-01-03    218.05\n",
              "2006-01-04    224.70\n",
              "Name: High, dtype: float64"
            ]
          },
          "execution_count": 10,
          "metadata": {},
          "output_type": "execute_result"
        }
      ],
      "source": [
        "# Extract the trading volume for Apple (AAPL)\n",
        "goog_highprice = df[df['Name'] == 'GOOGL']['High']\n",
        "goog_highprice.head(2)"
      ]
    },
    {
      "cell_type": "markdown",
      "id": "58475b32",
      "metadata": {
        "id": "58475b32"
      },
      "source": [
        "#### Augmented Dickey Fuller Test"
      ]
    },
    {
      "cell_type": "code",
      "execution_count": null,
      "id": "7e296d5a",
      "metadata": {
        "id": "7e296d5a",
        "outputId": "dace5f9d-6c39-4d55-ad28-2862db5c7e53"
      },
      "outputs": [
        {
          "name": "stdout",
          "output_type": "stream",
          "text": [
            "stat = 1.151646, pval = 0.995634\n",
            "The time series is not stationary at a 5% significance level\n"
          ]
        }
      ],
      "source": [
        "#Augmented Dickey Fuller test\n",
        "adftest = adfuller(goog_highprice)\n",
        "adf_stat = adftest[0]\n",
        "adf_pval = adftest[1]\n",
        "#Check result\n",
        "print(\"stat = %f, pval = %f\" % (adf_stat, adf_pval))\n",
        "#Final result\n",
        "if adf_pval > 0.05:\n",
        "    print(\"The time series is not stationary at a 5% significance level\")\n",
        "else:\n",
        "    print(\"The time series is stationary at a 5% significance level\")"
      ]
    },
    {
      "cell_type": "markdown",
      "id": "2b5ca2e4",
      "metadata": {
        "id": "2b5ca2e4"
      },
      "source": [
        "#### Differencing"
      ]
    },
    {
      "cell_type": "code",
      "execution_count": null,
      "id": "ef548c38",
      "metadata": {
        "id": "ef548c38"
      },
      "outputs": [],
      "source": [
        "goog_high_diff = goog_highprice.diff().dropna()"
      ]
    },
    {
      "cell_type": "code",
      "execution_count": null,
      "id": "86456536",
      "metadata": {
        "id": "86456536",
        "outputId": "6c975615-599f-4d43-e9ba-d965f8c69b17"
      },
      "outputs": [
        {
          "name": "stdout",
          "output_type": "stream",
          "text": [
            "stat = -37.892407, pval = 0.000000\n",
            "The time series is stationary at a 5% significance level\n"
          ]
        }
      ],
      "source": [
        "#Augmented Dickey Fuller test after differencing\n",
        "adftest = adfuller(goog_high_diff)\n",
        "adf_stat = adftest[0]\n",
        "adf_pval = adftest[1]\n",
        "#Check result\n",
        "print(\"stat = %f, pval = %f\" % (adf_stat, adf_pval))\n",
        "#Final result\n",
        "if adf_pval > 0.05:\n",
        "    print(\"The time series is not stationary at a 5% significance level\")\n",
        "else:\n",
        "    print(\"The time series is stationary at a 5% significance level\")"
      ]
    },
    {
      "cell_type": "code",
      "execution_count": null,
      "id": "195451a8",
      "metadata": {
        "id": "195451a8",
        "outputId": "356da3f5-af01-461c-9a0d-5c26ea8a5681"
      },
      "outputs": [
        {
          "data": {
            "text/plain": [
              "<AxesSubplot:xlabel='Date'>"
            ]
          },
          "execution_count": 14,
          "metadata": {},
          "output_type": "execute_result"
        },
        {
          "data": {
            "image/png": "[encoded data removed]",
            "text/plain": [
              "<Figure size 864x432 with 1 Axes>"
            ]
          },
          "metadata": {
            "needs_background": "light"
          },
          "output_type": "display_data"
        }
      ],
      "source": [
        "plt.figure(figsize=(12, 6))\n",
        "goog_high_diff.plot()"
      ]
    },
    {
      "cell_type": "markdown",
      "id": "80e84d7d",
      "metadata": {
        "id": "80e84d7d"
      },
      "source": [
        "## Q6. Implement the below multivariate forecasting methods for the high prices of 4 companies using stock.csv Apple (Ticker: AAPL), Google (Ticker: GOOG), Amazon (Ticker: AMZN) and Microsoft (Ticker: MSFT). The goal is to accurately forecast Apple high prices for December ’17."
      ]
    },
    {
      "cell_type": "markdown",
      "id": "f5d5fede",
      "metadata": {
        "id": "f5d5fede"
      },
      "source": [
        "### (i) ARIMAX model using Nixtla’s AutoARIMA method (10 marks)"
      ]
    },
    {
      "cell_type": "markdown",
      "id": "0b037595",
      "metadata": {
        "id": "0b037595"
      },
      "source": [
        "### Method - I : Using 'Open', 'High', 'Low', 'Close' as Exogenous and Predicting APPLE HIGH"
      ]
    },
    {
      "cell_type": "code",
      "execution_count": null,
      "id": "8429fa9d",
      "metadata": {
        "id": "8429fa9d",
        "outputId": "f75d3b39-b549-4887-ba3f-a7db3fcb6ea4"
      },
      "outputs": [
        {
          "data": {
            "text/html": [
              "<div>\n",
              "<style scoped>\n",
              "    .dataframe tbody tr th:only-of-type {\n",
              "        vertical-align: middle;\n",
              "    }\n",
              "\n",
              "    .dataframe tbody tr th {\n",
              "        vertical-align: top;\n",
              "    }\n",
              "\n",
              "    .dataframe thead th {\n",
              "        text-align: right;\n",
              "    }\n",
              "</style>\n",
              "<table border=\"1\" class=\"dataframe\">\n",
              "  <thead>\n",
              "    <tr style=\"text-align: right;\">\n",
              "      <th></th>\n",
              "      <th>Open</th>\n",
              "      <th>High</th>\n",
              "      <th>Low</th>\n",
              "      <th>Close</th>\n",
              "      <th>Name</th>\n",
              "    </tr>\n",
              "    <tr>\n",
              "      <th>Date</th>\n",
              "      <th></th>\n",
              "      <th></th>\n",
              "      <th></th>\n",
              "      <th></th>\n",
              "      <th></th>\n",
              "    </tr>\n",
              "  </thead>\n",
              "  <tbody>\n",
              "    <tr>\n",
              "      <th>2006-01-03</th>\n",
              "      <td>10.34</td>\n",
              "      <td>10.68</td>\n",
              "      <td>10.32</td>\n",
              "      <td>10.68</td>\n",
              "      <td>AAPL</td>\n",
              "    </tr>\n",
              "    <tr>\n",
              "      <th>2006-01-04</th>\n",
              "      <td>10.73</td>\n",
              "      <td>10.85</td>\n",
              "      <td>10.64</td>\n",
              "      <td>10.71</td>\n",
              "      <td>AAPL</td>\n",
              "    </tr>\n",
              "    <tr>\n",
              "      <th>2006-01-05</th>\n",
              "      <td>10.69</td>\n",
              "      <td>10.70</td>\n",
              "      <td>10.54</td>\n",
              "      <td>10.63</td>\n",
              "      <td>AAPL</td>\n",
              "    </tr>\n",
              "    <tr>\n",
              "      <th>2006-01-06</th>\n",
              "      <td>10.75</td>\n",
              "      <td>10.96</td>\n",
              "      <td>10.65</td>\n",
              "      <td>10.90</td>\n",
              "      <td>AAPL</td>\n",
              "    </tr>\n",
              "    <tr>\n",
              "      <th>2006-01-09</th>\n",
              "      <td>10.96</td>\n",
              "      <td>11.03</td>\n",
              "      <td>10.82</td>\n",
              "      <td>10.86</td>\n",
              "      <td>AAPL</td>\n",
              "    </tr>\n",
              "  </tbody>\n",
              "</table>\n",
              "</div>"
            ],
            "text/plain": [
              "             Open   High    Low  Close  Name\n",
              "Date                                        \n",
              "2006-01-03  10.34  10.68  10.32  10.68  AAPL\n",
              "2006-01-04  10.73  10.85  10.64  10.71  AAPL\n",
              "2006-01-05  10.69  10.70  10.54  10.63  AAPL\n",
              "2006-01-06  10.75  10.96  10.65  10.90  AAPL\n",
              "2006-01-09  10.96  11.03  10.82  10.86  AAPL"
            ]
          },
          "execution_count": 15,
          "metadata": {},
          "output_type": "execute_result"
        }
      ],
      "source": [
        "data = df[df['Name'] == 'AAPL'][['Open', 'High', 'Low', 'Close','Name']]\n",
        "data.head()"
      ]
    },
    {
      "cell_type": "code",
      "execution_count": null,
      "id": "b75d35f9",
      "metadata": {
        "id": "b75d35f9"
      },
      "outputs": [],
      "source": [
        "# Train-test split using index locations\n",
        "split_date = '2017-11-30'\n",
        "start_date = '2017-12-01'\n",
        "train = data.loc[:split_date]\n",
        "test = data.loc[start_date:]\n"
      ]
    },
    {
      "cell_type": "code",
      "execution_count": null,
      "id": "757301ae",
      "metadata": {
        "id": "757301ae",
        "outputId": "9ebe5866-958e-446e-a7b3-de9969d06508"
      },
      "outputs": [
        {
          "data": {
            "text/html": [
              "<div>\n",
              "<style scoped>\n",
              "    .dataframe tbody tr th:only-of-type {\n",
              "        vertical-align: middle;\n",
              "    }\n",
              "\n",
              "    .dataframe tbody tr th {\n",
              "        vertical-align: top;\n",
              "    }\n",
              "\n",
              "    .dataframe thead th {\n",
              "        text-align: right;\n",
              "    }\n",
              "</style>\n",
              "<table border=\"1\" class=\"dataframe\">\n",
              "  <thead>\n",
              "    <tr style=\"text-align: right;\">\n",
              "      <th></th>\n",
              "      <th>ds</th>\n",
              "      <th>y</th>\n",
              "      <th>Open</th>\n",
              "      <th>Low</th>\n",
              "      <th>Close</th>\n",
              "      <th>unique_id</th>\n",
              "    </tr>\n",
              "  </thead>\n",
              "  <tbody>\n",
              "    <tr>\n",
              "      <th>0</th>\n",
              "      <td>2006-01-03</td>\n",
              "      <td>10.68</td>\n",
              "      <td>10.34</td>\n",
              "      <td>10.32</td>\n",
              "      <td>10.68</td>\n",
              "      <td>1</td>\n",
              "    </tr>\n",
              "    <tr>\n",
              "      <th>1</th>\n",
              "      <td>2006-01-04</td>\n",
              "      <td>10.85</td>\n",
              "      <td>10.73</td>\n",
              "      <td>10.64</td>\n",
              "      <td>10.71</td>\n",
              "      <td>1</td>\n",
              "    </tr>\n",
              "    <tr>\n",
              "      <th>2</th>\n",
              "      <td>2006-01-05</td>\n",
              "      <td>10.70</td>\n",
              "      <td>10.69</td>\n",
              "      <td>10.54</td>\n",
              "      <td>10.63</td>\n",
              "      <td>1</td>\n",
              "    </tr>\n",
              "    <tr>\n",
              "      <th>3</th>\n",
              "      <td>2006-01-06</td>\n",
              "      <td>10.96</td>\n",
              "      <td>10.75</td>\n",
              "      <td>10.65</td>\n",
              "      <td>10.90</td>\n",
              "      <td>1</td>\n",
              "    </tr>\n",
              "    <tr>\n",
              "      <th>4</th>\n",
              "      <td>2006-01-09</td>\n",
              "      <td>11.03</td>\n",
              "      <td>10.96</td>\n",
              "      <td>10.82</td>\n",
              "      <td>10.86</td>\n",
              "      <td>1</td>\n",
              "    </tr>\n",
              "  </tbody>\n",
              "</table>\n",
              "</div>"
            ],
            "text/plain": [
              "           ds      y   Open    Low  Close  unique_id\n",
              "0  2006-01-03  10.68  10.34  10.32  10.68          1\n",
              "1  2006-01-04  10.85  10.73  10.64  10.71          1\n",
              "2  2006-01-05  10.70  10.69  10.54  10.63          1\n",
              "3  2006-01-06  10.96  10.75  10.65  10.90          1\n",
              "4  2006-01-09  11.03  10.96  10.82  10.86          1"
            ]
          },
          "execution_count": 17,
          "metadata": {},
          "output_type": "execute_result"
        }
      ],
      "source": [
        "#Simple data preprocessing for Nixtla\n",
        "df_nix = train[['High','Open', 'Low', 'Close']].reset_index()\n",
        "df_nix[\"unique_id\"] = 1\n",
        "df_nix.columns = ['ds','y','Open','Low', 'Close','unique_id']\n",
        "df_nix.head()"
      ]
    },
    {
      "cell_type": "code",
      "execution_count": null,
      "id": "400f8865",
      "metadata": {
        "id": "400f8865",
        "outputId": "2d717daa-376c-4d78-9ce7-f17c7731259c"
      },
      "outputs": [
        {
          "data": {
            "text/plain": [
              "{'coef': {'ar1': -0.2302858729966047,\n",
              "  'ma1': -0.6061346166019619,\n",
              "  'ma2': -0.3509846381255248,\n",
              "  'ex_1': 0.6581000089053256,\n",
              "  'ex_2': -0.34780667487434946,\n",
              "  'ex_3': 0.6863224602554183},\n",
              " 'sigma2': 0.13082215098576933,\n",
              " 'var_coef': array([[ 1.51598080e-05, -2.79908769e-05,  7.65419787e-06,\n",
              "         -2.47811194e-06,  6.95024158e-07,  5.60485281e-06],\n",
              "        [-2.79908769e-05,  5.46733644e-05, -8.48669464e-06,\n",
              "          9.59079587e-06, -4.22187182e-06, -1.48994339e-05],\n",
              "        [ 7.65419787e-06, -8.48669464e-06,  2.79292529e-05,\n",
              "          1.60030574e-05, -5.77439211e-06, -1.03282710e-05],\n",
              "        [-2.47811194e-06,  9.59079587e-06,  1.60030574e-05,\n",
              "          1.33382677e-05, -5.37660356e-06, -1.11996325e-05],\n",
              "        [ 6.95024158e-07, -4.22187182e-06, -5.77439211e-06,\n",
              "         -5.37660356e-06,  2.94414791e-06,  4.92477992e-06],\n",
              "        [ 5.60485281e-06, -1.48994339e-05, -1.03282710e-05,\n",
              "         -1.11996325e-05,  4.92477992e-06,  1.05523803e-05]]),\n",
              " 'mask': array([ True,  True,  True,  True,  True,  True]),\n",
              " 'loglik': -1203.028591083391,\n",
              " 'aic': 2420.057182166782,\n",
              " 'arma': (1, 2, 0, 0, 1, 1, 0),\n",
              " 'residuals': array([ 1.34686801e-04,  3.08230967e-03, -8.50819108e-02, ...,\n",
              "         7.73829423e-02, -2.65541673e-02, -5.07519413e-01]),\n",
              " 'code': 2,\n",
              " 'n_cond': 0,\n",
              " 'nobs': 2998,\n",
              " 'model': {'phi': array([-0.23028587]),\n",
              "  'theta': array([-0.60613462, -0.35098464]),\n",
              "  'delta': array([1.]),\n",
              "  'Z': array([1., 0., 0., 1.]),\n",
              "  'a': array([-0.51357167,  0.31694519,  0.17813152,  1.13362867]),\n",
              "  'P': array([[ 0.00000000e+00,  0.00000000e+00,  0.00000000e+00,\n",
              "          -3.60504786e-21],\n",
              "         [ 0.00000000e+00,  1.72084569e-15,  6.10622664e-16,\n",
              "           5.64079615e-22],\n",
              "         [ 0.00000000e+00,  6.10622664e-16,  2.22044605e-16,\n",
              "           7.75948643e-22],\n",
              "         [-3.60504786e-21,  5.64079615e-22,  7.75948643e-22,\n",
              "           3.60504786e-21]]),\n",
              "  'T': array([[-0.23028587,  1.        ,  0.        ,  0.        ],\n",
              "         [ 0.        ,  0.        ,  1.        ,  0.        ],\n",
              "         [ 0.        ,  0.        ,  0.        ,  0.        ],\n",
              "         [ 1.        ,  0.        ,  0.        ,  1.        ]]),\n",
              "  'V': array([[ 1.        , -0.60613462, -0.35098464,  0.        ],\n",
              "         [-0.60613462,  0.36739917,  0.21274394, -0.        ],\n",
              "         [-0.35098464,  0.21274394,  0.12319022, -0.        ],\n",
              "         [ 0.        , -0.        , -0.        ,  0.        ]]),\n",
              "  'h': 0.0,\n",
              "  'Pn': array([[ 1.00000000e+00, -6.06134617e-01, -3.50984638e-01,\n",
              "          -1.39427121e-21],\n",
              "         [-6.06134617e-01,  3.67399173e-01,  2.12743939e-01,\n",
              "          -7.75948643e-22],\n",
              "         [-3.50984638e-01,  2.12743939e-01,  1.23190216e-01,\n",
              "           0.00000000e+00],\n",
              "         [-1.39427121e-21, -7.75948643e-22,  0.00000000e+00,\n",
              "           3.60504786e-21]])},\n",
              " 'bic': 2462.09708691742,\n",
              " 'aicc': 2420.094640360762,\n",
              " 'ic': None,\n",
              " 'xreg': array([[ 10.34,  10.32,  10.68],\n",
              "        [ 10.73,  10.64,  10.71],\n",
              "        [ 10.69,  10.54,  10.63],\n",
              "        ...,\n",
              "        [174.3 , 171.86, 173.07],\n",
              "        [172.63, 167.16, 169.48],\n",
              "        [170.43, 168.44, 171.85]]),\n",
              " 'x': array([ 10.68,  10.85,  10.7 , ..., 174.87, 172.92, 172.14]),\n",
              " 'lambda': None}"
            ]
          },
          "execution_count": 18,
          "metadata": {},
          "output_type": "execute_result"
        }
      ],
      "source": [
        "# Define the models\n",
        "models = [AutoARIMA()]\n",
        "\n",
        "# Train the StatsForecast model\n",
        "sf = StatsForecast(df=df_nix, models=models, freq='D', n_jobs=-1)\n",
        "\n",
        "sf.fit(df_nix)\n",
        "#Access dictionary of the AutoARIMA model's parameters\n",
        "model_params = sf.fitted_[0][0].model_\n",
        "model_params"
      ]
    },
    {
      "cell_type": "code",
      "execution_count": null,
      "id": "c4dced9d",
      "metadata": {
        "id": "c4dced9d"
      },
      "outputs": [],
      "source": [
        "def forecast_exog(exog_var_name, horizon):\n",
        "    exog_df = df_nix[exog_var_name].reset_index()\n",
        "    exog_df.columns = [\"ds\",\"y\"]\n",
        "    exog_df[\"unique_id\"] = 1\n",
        "\n",
        "    #Get forecast of realcons exogenous variable for next 4 quarters using a Drift method\n",
        "    models = [RandomWalkWithDrift(alias=\"Drift\")]\n",
        "    sf_exog = StatsForecast(df=exog_df,\n",
        "                       models=models,\n",
        "                       freq='D', # Daily\n",
        "                       n_jobs=-1)\n",
        "\n",
        "    forecasted_exog = sf_exog.forecast(horizon)[\"Drift\"].values\n",
        "    return(forecasted_exog)"
      ]
    },
    {
      "cell_type": "code",
      "execution_count": null,
      "id": "fae0ef92",
      "metadata": {
        "id": "fae0ef92",
        "outputId": "ce58bcab-fbcd-48fe-ce40-cdbc3d847ec4"
      },
      "outputs": [
        {
          "data": {
            "text/html": [
              "<div>\n",
              "<style scoped>\n",
              "    .dataframe tbody tr th:only-of-type {\n",
              "        vertical-align: middle;\n",
              "    }\n",
              "\n",
              "    .dataframe tbody tr th {\n",
              "        vertical-align: top;\n",
              "    }\n",
              "\n",
              "    .dataframe thead th {\n",
              "        text-align: right;\n",
              "    }\n",
              "</style>\n",
              "<table border=\"1\" class=\"dataframe\">\n",
              "  <thead>\n",
              "    <tr style=\"text-align: right;\">\n",
              "      <th></th>\n",
              "      <th>ds</th>\n",
              "      <th>Open</th>\n",
              "      <th>Low</th>\n",
              "      <th>Close</th>\n",
              "      <th>unique_id</th>\n",
              "    </tr>\n",
              "  </thead>\n",
              "  <tbody>\n",
              "    <tr>\n",
              "      <th>0</th>\n",
              "      <td>2017-12-01</td>\n",
              "      <td>170.483398</td>\n",
              "      <td>168.492737</td>\n",
              "      <td>171.903763</td>\n",
              "      <td>1</td>\n",
              "    </tr>\n",
              "    <tr>\n",
              "      <th>1</th>\n",
              "      <td>2017-12-04</td>\n",
              "      <td>170.536789</td>\n",
              "      <td>168.545486</td>\n",
              "      <td>171.957520</td>\n",
              "      <td>1</td>\n",
              "    </tr>\n",
              "    <tr>\n",
              "      <th>2</th>\n",
              "      <td>2017-12-05</td>\n",
              "      <td>170.590195</td>\n",
              "      <td>168.598221</td>\n",
              "      <td>172.011276</td>\n",
              "      <td>1</td>\n",
              "    </tr>\n",
              "    <tr>\n",
              "      <th>3</th>\n",
              "      <td>2017-12-06</td>\n",
              "      <td>170.643585</td>\n",
              "      <td>168.650970</td>\n",
              "      <td>172.065048</td>\n",
              "      <td>1</td>\n",
              "    </tr>\n",
              "    <tr>\n",
              "      <th>4</th>\n",
              "      <td>2017-12-07</td>\n",
              "      <td>170.696991</td>\n",
              "      <td>168.703705</td>\n",
              "      <td>172.118805</td>\n",
              "      <td>1</td>\n",
              "    </tr>\n",
              "  </tbody>\n",
              "</table>\n",
              "</div>"
            ],
            "text/plain": [
              "          ds        Open         Low       Close  unique_id\n",
              "0 2017-12-01  170.483398  168.492737  171.903763          1\n",
              "1 2017-12-04  170.536789  168.545486  171.957520          1\n",
              "2 2017-12-05  170.590195  168.598221  172.011276          1\n",
              "3 2017-12-06  170.643585  168.650970  172.065048          1\n",
              "4 2017-12-07  170.696991  168.703705  172.118805          1"
            ]
          },
          "execution_count": 20,
          "metadata": {},
          "output_type": "execute_result"
        }
      ],
      "source": [
        "df_nix.set_index('ds',inplace = True)\n",
        "# Generate a date range from 2017-12-01 to 2017-12-31\n",
        "date_range = pd.date_range(start='2017-12-01', end='2017-12-31')\n",
        "forecasted_exog_df = pd.DataFrame({'ds': test.index})\n",
        "#forecasted_exog_df = pd.DataFrame({'ds': date_range})\n",
        "forecasted_exog_df['Open'] = forecast_exog('Open',20)\n",
        "forecasted_exog_df['Low'] = forecast_exog('Low',20)\n",
        "forecasted_exog_df['Close'] = forecast_exog('Close',20)\n",
        "forecasted_exog_df[\"unique_id\"] = 1\n",
        "forecasted_exog_df['ds'] = pd.to_datetime(forecasted_exog_df['ds'])\n",
        "forecasted_exog_df.head()\n"
      ]
    },
    {
      "cell_type": "code",
      "execution_count": null,
      "id": "f22f7772",
      "metadata": {
        "id": "f22f7772",
        "outputId": "782a9260-cf46-4c5b-a0d9-e12d1622a0c1"
      },
      "outputs": [
        {
          "data": {
            "text/html": [
              "<div>\n",
              "<style scoped>\n",
              "    .dataframe tbody tr th:only-of-type {\n",
              "        vertical-align: middle;\n",
              "    }\n",
              "\n",
              "    .dataframe tbody tr th {\n",
              "        vertical-align: top;\n",
              "    }\n",
              "\n",
              "    .dataframe thead th {\n",
              "        text-align: right;\n",
              "    }\n",
              "</style>\n",
              "<table border=\"1\" class=\"dataframe\">\n",
              "  <thead>\n",
              "    <tr style=\"text-align: right;\">\n",
              "      <th></th>\n",
              "      <th>ds</th>\n",
              "      <th>AutoARIMA</th>\n",
              "      <th>AutoARIMA-lo-95</th>\n",
              "      <th>AutoARIMA-lo-90</th>\n",
              "      <th>AutoARIMA-hi-90</th>\n",
              "      <th>AutoARIMA-hi-95</th>\n",
              "    </tr>\n",
              "    <tr>\n",
              "      <th>unique_id</th>\n",
              "      <th></th>\n",
              "      <th></th>\n",
              "      <th></th>\n",
              "      <th></th>\n",
              "      <th></th>\n",
              "      <th></th>\n",
              "    </tr>\n",
              "  </thead>\n",
              "  <tbody>\n",
              "    <tr>\n",
              "      <th>1</th>\n",
              "      <td>2017-12-01</td>\n",
              "      <td>172.628906</td>\n",
              "      <td>171.919998</td>\n",
              "      <td>172.033981</td>\n",
              "      <td>173.223846</td>\n",
              "      <td>173.337814</td>\n",
              "    </tr>\n",
              "    <tr>\n",
              "      <th>1</th>\n",
              "      <td>2017-12-02</td>\n",
              "      <td>172.760498</td>\n",
              "      <td>172.042175</td>\n",
              "      <td>172.157669</td>\n",
              "      <td>173.363342</td>\n",
              "      <td>173.478836</td>\n",
              "    </tr>\n",
              "    <tr>\n",
              "      <th>1</th>\n",
              "      <td>2017-12-03</td>\n",
              "      <td>172.796265</td>\n",
              "      <td>172.077927</td>\n",
              "      <td>172.193420</td>\n",
              "      <td>173.399109</td>\n",
              "      <td>173.514603</td>\n",
              "    </tr>\n",
              "    <tr>\n",
              "      <th>1</th>\n",
              "      <td>2017-12-04</td>\n",
              "      <td>172.854095</td>\n",
              "      <td>172.135147</td>\n",
              "      <td>172.250732</td>\n",
              "      <td>173.457443</td>\n",
              "      <td>173.573029</td>\n",
              "    </tr>\n",
              "    <tr>\n",
              "      <th>1</th>\n",
              "      <td>2017-12-05</td>\n",
              "      <td>172.906830</td>\n",
              "      <td>172.187500</td>\n",
              "      <td>172.303146</td>\n",
              "      <td>173.510513</td>\n",
              "      <td>173.626175</td>\n",
              "    </tr>\n",
              "  </tbody>\n",
              "</table>\n",
              "</div>"
            ],
            "text/plain": [
              "                  ds   AutoARIMA  AutoARIMA-lo-95  AutoARIMA-lo-90  \\\n",
              "unique_id                                                            \n",
              "1         2017-12-01  172.628906       171.919998       172.033981   \n",
              "1         2017-12-02  172.760498       172.042175       172.157669   \n",
              "1         2017-12-03  172.796265       172.077927       172.193420   \n",
              "1         2017-12-04  172.854095       172.135147       172.250732   \n",
              "1         2017-12-05  172.906830       172.187500       172.303146   \n",
              "\n",
              "           AutoARIMA-hi-90  AutoARIMA-hi-95  \n",
              "unique_id                                    \n",
              "1               173.223846       173.337814  \n",
              "1               173.363342       173.478836  \n",
              "1               173.399109       173.514603  \n",
              "1               173.457443       173.573029  \n",
              "1               173.510513       173.626175  "
            ]
          },
          "execution_count": 21,
          "metadata": {},
          "output_type": "execute_result"
        }
      ],
      "source": [
        "#Get forecast\n",
        "arima_forecast = sf.forecast(h=20, X_df = forecasted_exog_df, level = [95,90])\n",
        "arima_forecast.head()"
      ]
    },
    {
      "cell_type": "code",
      "execution_count": null,
      "id": "a524c28c",
      "metadata": {
        "id": "a524c28c",
        "outputId": "9c2b031a-cf19-46d2-8c23-0a9a7a46091c"
      },
      "outputs": [
        {
          "name": "stdout",
          "output_type": "stream",
          "text": [
            "MAPE for ARIMAX model: 0.98%\n"
          ]
        }
      ],
      "source": [
        "\n",
        "mape_arimax = mean_absolute_percentage_error(test['High'], arima_forecast['AutoARIMA'])\n",
        "print(f'MAPE for ARIMAX model: {mape_arimax * 100:.2f}%')\n"
      ]
    },
    {
      "cell_type": "markdown",
      "id": "6ec83923",
      "metadata": {
        "id": "6ec83923"
      },
      "source": [
        "### Method  - 2 Using 'GOOGL', 'AMZN', 'MSFT' HIGHs as Exogenous and Predicting APPLE High"
      ]
    },
    {
      "cell_type": "code",
      "execution_count": null,
      "id": "32febc8a",
      "metadata": {
        "id": "32febc8a",
        "outputId": "35f671f3-08c9-4de4-9518-de23309561f3"
      },
      "outputs": [
        {
          "data": {
            "text/html": [
              "<div>\n",
              "<style scoped>\n",
              "    .dataframe tbody tr th:only-of-type {\n",
              "        vertical-align: middle;\n",
              "    }\n",
              "\n",
              "    .dataframe tbody tr th {\n",
              "        vertical-align: top;\n",
              "    }\n",
              "\n",
              "    .dataframe thead th {\n",
              "        text-align: right;\n",
              "    }\n",
              "</style>\n",
              "<table border=\"1\" class=\"dataframe\">\n",
              "  <thead>\n",
              "    <tr style=\"text-align: right;\">\n",
              "      <th></th>\n",
              "      <th>AAPL_high</th>\n",
              "      <th>GOOG_high</th>\n",
              "      <th>AMZN_high</th>\n",
              "      <th>MSFT_high</th>\n",
              "    </tr>\n",
              "    <tr>\n",
              "      <th>Date</th>\n",
              "      <th></th>\n",
              "      <th></th>\n",
              "      <th></th>\n",
              "      <th></th>\n",
              "    </tr>\n",
              "  </thead>\n",
              "  <tbody>\n",
              "    <tr>\n",
              "      <th>2006-01-03</th>\n",
              "      <td>10.68</td>\n",
              "      <td>47.85</td>\n",
              "      <td>218.05</td>\n",
              "      <td>27.00</td>\n",
              "    </tr>\n",
              "    <tr>\n",
              "      <th>2006-01-04</th>\n",
              "      <td>10.85</td>\n",
              "      <td>47.73</td>\n",
              "      <td>224.70</td>\n",
              "      <td>27.08</td>\n",
              "    </tr>\n",
              "    <tr>\n",
              "      <th>2006-01-05</th>\n",
              "      <td>10.70</td>\n",
              "      <td>48.20</td>\n",
              "      <td>226.00</td>\n",
              "      <td>27.13</td>\n",
              "    </tr>\n",
              "    <tr>\n",
              "      <th>2006-01-06</th>\n",
              "      <td>10.96</td>\n",
              "      <td>48.58</td>\n",
              "      <td>235.49</td>\n",
              "      <td>27.00</td>\n",
              "    </tr>\n",
              "    <tr>\n",
              "      <th>2006-01-09</th>\n",
              "      <td>11.03</td>\n",
              "      <td>47.10</td>\n",
              "      <td>236.94</td>\n",
              "      <td>27.07</td>\n",
              "    </tr>\n",
              "  </tbody>\n",
              "</table>\n",
              "</div>"
            ],
            "text/plain": [
              "            AAPL_high  GOOG_high  AMZN_high  MSFT_high\n",
              "Date                                                  \n",
              "2006-01-03      10.68      47.85     218.05      27.00\n",
              "2006-01-04      10.85      47.73     224.70      27.08\n",
              "2006-01-05      10.70      48.20     226.00      27.13\n",
              "2006-01-06      10.96      48.58     235.49      27.00\n",
              "2006-01-09      11.03      47.10     236.94      27.07"
            ]
          },
          "execution_count": 23,
          "metadata": {},
          "output_type": "execute_result"
        }
      ],
      "source": [
        "# Filter the data for the relevant columns and tickers\n",
        "data = df\n",
        "tickers = ['AAPL', 'GOOGL', 'AMZN', 'MSFT']\n",
        "data = data[data['Name'].isin(tickers)]\n",
        "\n",
        "# Pivot the data to have a separate column for each ticker's high prices\n",
        "data_pivoted = data.pivot(columns='Name', values='High')\n",
        "\n",
        "# Rename columns for convenience\n",
        "data_pivoted.columns = ['AAPL_high', 'GOOG_high', 'AMZN_high', 'MSFT_high']\n",
        "\n",
        "data_pivoted.head()"
      ]
    },
    {
      "cell_type": "code",
      "execution_count": null,
      "id": "453c166c",
      "metadata": {
        "id": "453c166c"
      },
      "outputs": [],
      "source": [
        "data = data_pivoted\n",
        "# Train-test split using index locations\n",
        "split_date = '2017-11-30'\n",
        "start_date = '2017-12-01'\n",
        "train = data.loc[:split_date]\n",
        "test = data.loc[start_date:]\n"
      ]
    },
    {
      "cell_type": "code",
      "execution_count": null,
      "id": "77171df9",
      "metadata": {
        "id": "77171df9",
        "outputId": "a48c7058-51dd-487d-aefc-b96ebc52f794"
      },
      "outputs": [
        {
          "data": {
            "text/html": [
              "<div>\n",
              "<style scoped>\n",
              "    .dataframe tbody tr th:only-of-type {\n",
              "        vertical-align: middle;\n",
              "    }\n",
              "\n",
              "    .dataframe tbody tr th {\n",
              "        vertical-align: top;\n",
              "    }\n",
              "\n",
              "    .dataframe thead th {\n",
              "        text-align: right;\n",
              "    }\n",
              "</style>\n",
              "<table border=\"1\" class=\"dataframe\">\n",
              "  <thead>\n",
              "    <tr style=\"text-align: right;\">\n",
              "      <th></th>\n",
              "      <th>ds</th>\n",
              "      <th>y</th>\n",
              "      <th>GOOG_high</th>\n",
              "      <th>AMZN_high</th>\n",
              "      <th>MSFT_high</th>\n",
              "      <th>unique_id</th>\n",
              "    </tr>\n",
              "  </thead>\n",
              "  <tbody>\n",
              "    <tr>\n",
              "      <th>0</th>\n",
              "      <td>2006-01-03</td>\n",
              "      <td>10.68</td>\n",
              "      <td>47.85</td>\n",
              "      <td>218.05</td>\n",
              "      <td>27.00</td>\n",
              "      <td>1</td>\n",
              "    </tr>\n",
              "    <tr>\n",
              "      <th>1</th>\n",
              "      <td>2006-01-04</td>\n",
              "      <td>10.85</td>\n",
              "      <td>47.73</td>\n",
              "      <td>224.70</td>\n",
              "      <td>27.08</td>\n",
              "      <td>1</td>\n",
              "    </tr>\n",
              "    <tr>\n",
              "      <th>2</th>\n",
              "      <td>2006-01-05</td>\n",
              "      <td>10.70</td>\n",
              "      <td>48.20</td>\n",
              "      <td>226.00</td>\n",
              "      <td>27.13</td>\n",
              "      <td>1</td>\n",
              "    </tr>\n",
              "    <tr>\n",
              "      <th>3</th>\n",
              "      <td>2006-01-06</td>\n",
              "      <td>10.96</td>\n",
              "      <td>48.58</td>\n",
              "      <td>235.49</td>\n",
              "      <td>27.00</td>\n",
              "      <td>1</td>\n",
              "    </tr>\n",
              "    <tr>\n",
              "      <th>4</th>\n",
              "      <td>2006-01-09</td>\n",
              "      <td>11.03</td>\n",
              "      <td>47.10</td>\n",
              "      <td>236.94</td>\n",
              "      <td>27.07</td>\n",
              "      <td>1</td>\n",
              "    </tr>\n",
              "  </tbody>\n",
              "</table>\n",
              "</div>"
            ],
            "text/plain": [
              "           ds      y  GOOG_high  AMZN_high  MSFT_high  unique_id\n",
              "0  2006-01-03  10.68      47.85     218.05      27.00          1\n",
              "1  2006-01-04  10.85      47.73     224.70      27.08          1\n",
              "2  2006-01-05  10.70      48.20     226.00      27.13          1\n",
              "3  2006-01-06  10.96      48.58     235.49      27.00          1\n",
              "4  2006-01-09  11.03      47.10     236.94      27.07          1"
            ]
          },
          "execution_count": 25,
          "metadata": {},
          "output_type": "execute_result"
        }
      ],
      "source": [
        "#Simple data preprocessing for Nixtla\n",
        "df_nix = train[['AAPL_high', 'GOOG_high', 'AMZN_high', 'MSFT_high']].reset_index()\n",
        "df_nix[\"unique_id\"] = 1\n",
        "df_nix.columns = ['ds','y', 'GOOG_high', 'AMZN_high', 'MSFT_high','unique_id']\n",
        "df_nix.head()"
      ]
    },
    {
      "cell_type": "code",
      "execution_count": null,
      "id": "548179f0",
      "metadata": {
        "id": "548179f0",
        "outputId": "a85952b6-ba25-4821-a96e-9dcc558913fe"
      },
      "outputs": [
        {
          "data": {
            "text/plain": [
              "{'coef': {'ar1': 0.09453448339368789,\n",
              "  'ar2': -0.059222815455940124,\n",
              "  'ex_1': 0.02046212294461941,\n",
              "  'ex_2': 0.03132791237959927,\n",
              "  'ex_3': 0.26580993425316257},\n",
              " 'sigma2': 0.8969848095951107,\n",
              " 'var_coef': array([[ 3.68229761e-04,  0.00000000e+00,  0.00000000e+00,\n",
              "          0.00000000e+00,  0.00000000e+00],\n",
              "        [-6.07351853e-05,  3.31259033e-04,  0.00000000e+00,\n",
              "          0.00000000e+00,  0.00000000e+00],\n",
              "        [ 0.00000000e+00,  0.00000000e+00,  3.33555704e-04,\n",
              "          9.45676520e-21, -8.87555405e-22],\n",
              "        [ 0.00000000e+00,  0.00000000e+00,  7.05843964e-22,\n",
              "          3.33555704e-04, -4.44633361e-21],\n",
              "        [ 0.00000000e+00,  0.00000000e+00,  9.02381133e-22,\n",
              "         -2.68308224e-21,  3.33555704e-04]]),\n",
              " 'mask': array([ True,  True,  True,  True,  True]),\n",
              " 'loglik': -4088.517326014524,\n",
              " 'aic': 8189.034652029048,\n",
              " 'arma': (2, 0, 0, 0, 1, 1, 0),\n",
              " 'residuals': array([-0.00430703, -0.05681165, -0.20816854, ..., -0.4104515 ,\n",
              "        -1.06982491,  0.18174165]),\n",
              " 'code': 2,\n",
              " 'n_cond': 0,\n",
              " 'nobs': 2998,\n",
              " 'model': {'phi': array([ 0.09453448, -0.05922282]),\n",
              "  'theta': array([0.]),\n",
              "  'delta': array([1.]),\n",
              "  'Z': array([1., 0., 1.]),\n",
              "  'a': array([1.16751587e-01, 6.11193819e-02, 9.27302221e+01]),\n",
              "  'P': array([[ 0.00000000e+00,  2.16031027e-23, -3.64776692e-22],\n",
              "         [ 2.16031027e-23, -4.13053031e-46, -2.16031027e-23],\n",
              "         [-3.64776692e-22, -2.16031027e-23,  3.64776692e-22]]),\n",
              "  'T': array([[ 0.09453448,  1.        ,  0.        ],\n",
              "         [-0.05922282,  0.        ,  0.        ],\n",
              "         [ 1.        ,  0.        ,  1.        ]]),\n",
              "  'V': array([[1., 0., 0.],\n",
              "         [0., 0., 0.],\n",
              "         [0., 0., 0.]]),\n",
              "  'h': 0.0,\n",
              "  'Pn': array([[ 1.00000000e+00,  1.27939656e-24,  3.44839761e-23],\n",
              "         [ 1.27939656e-24,  0.00000000e+00, -2.16031027e-23],\n",
              "         [ 3.44839761e-23, -2.16031027e-23,  3.64776692e-22]])},\n",
              " 'bic': 8225.068856101023,\n",
              " 'aicc': 8189.062736281806,\n",
              " 'ic': None,\n",
              " 'xreg': array([[  47.85,  218.05,   27.  ],\n",
              "        [  47.73,  224.7 ,   27.08],\n",
              "        [  48.2 ,  226.  ,   27.13],\n",
              "        ...,\n",
              "        [1205.34, 1080.  ,   85.06],\n",
              "        [1194.8 , 1058.77,   84.92],\n",
              "        [1178.57, 1044.14,   84.52]]),\n",
              " 'x': array([ 10.68,  10.85,  10.7 , ..., 174.87, 172.92, 172.14]),\n",
              " 'lambda': None}"
            ]
          },
          "execution_count": 26,
          "metadata": {},
          "output_type": "execute_result"
        }
      ],
      "source": [
        "# Define the models\n",
        "models = [AutoARIMA()]\n",
        "\n",
        "# Train the StatsForecast model\n",
        "sf = StatsForecast(df=df_nix, models=models, freq='D', n_jobs=-1)\n",
        "\n",
        "sf.fit(df_nix)\n",
        "#Access dictionary of the AutoARIMA model's parameters\n",
        "model_params = sf.fitted_[0][0].model_\n",
        "model_params"
      ]
    },
    {
      "cell_type": "code",
      "execution_count": null,
      "id": "5513b5c3",
      "metadata": {
        "id": "5513b5c3"
      },
      "outputs": [],
      "source": [
        "def forecast_exog(exog_var_name, horizon):\n",
        "    exog_df = df_nix[exog_var_name].reset_index()\n",
        "    exog_df.columns = [\"ds\",\"y\"]\n",
        "    exog_df[\"unique_id\"] = 1\n",
        "\n",
        "    #Get forecast of realcons exogenous variable for next 4 quarters using a Drift method\n",
        "    models = [RandomWalkWithDrift(alias=\"Drift\")]\n",
        "    sf_exog = StatsForecast(df=exog_df,\n",
        "                       models=models,\n",
        "                       freq='D', # Daily\n",
        "                       n_jobs=-1)\n",
        "\n",
        "    forecasted_exog = sf_exog.forecast(horizon)[\"Drift\"].values\n",
        "    return(forecasted_exog)"
      ]
    },
    {
      "cell_type": "code",
      "execution_count": null,
      "id": "0711c940",
      "metadata": {
        "id": "0711c940",
        "outputId": "eb021337-57e8-4c40-f832-795477dc98ac"
      },
      "outputs": [
        {
          "data": {
            "text/plain": [
              "Index(['ds', 'y', 'GOOG_high', 'AMZN_high', 'MSFT_high', 'unique_id'], dtype='object')"
            ]
          },
          "execution_count": 28,
          "metadata": {},
          "output_type": "execute_result"
        }
      ],
      "source": [
        "df_nix.columns"
      ]
    },
    {
      "cell_type": "code",
      "execution_count": null,
      "id": "94351b94",
      "metadata": {
        "id": "94351b94",
        "outputId": "439ff158-76b1-4066-e2e4-df127361e3d9"
      },
      "outputs": [
        {
          "data": {
            "text/html": [
              "<div>\n",
              "<style scoped>\n",
              "    .dataframe tbody tr th:only-of-type {\n",
              "        vertical-align: middle;\n",
              "    }\n",
              "\n",
              "    .dataframe tbody tr th {\n",
              "        vertical-align: top;\n",
              "    }\n",
              "\n",
              "    .dataframe thead th {\n",
              "        text-align: right;\n",
              "    }\n",
              "</style>\n",
              "<table border=\"1\" class=\"dataframe\">\n",
              "  <thead>\n",
              "    <tr style=\"text-align: right;\">\n",
              "      <th></th>\n",
              "      <th>ds</th>\n",
              "      <th>GOOG_high</th>\n",
              "      <th>AMZN_high</th>\n",
              "      <th>MSFT_high</th>\n",
              "      <th>unique_id</th>\n",
              "    </tr>\n",
              "  </thead>\n",
              "  <tbody>\n",
              "    <tr>\n",
              "      <th>0</th>\n",
              "      <td>2017-12-01</td>\n",
              "      <td>1178.947144</td>\n",
              "      <td>1044.415527</td>\n",
              "      <td>84.539185</td>\n",
              "      <td>1</td>\n",
              "    </tr>\n",
              "    <tr>\n",
              "      <th>1</th>\n",
              "      <td>2017-12-04</td>\n",
              "      <td>1179.324219</td>\n",
              "      <td>1044.691162</td>\n",
              "      <td>84.558372</td>\n",
              "      <td>1</td>\n",
              "    </tr>\n",
              "    <tr>\n",
              "      <th>2</th>\n",
              "      <td>2017-12-05</td>\n",
              "      <td>1179.701416</td>\n",
              "      <td>1044.966675</td>\n",
              "      <td>84.577553</td>\n",
              "      <td>1</td>\n",
              "    </tr>\n",
              "    <tr>\n",
              "      <th>3</th>\n",
              "      <td>2017-12-06</td>\n",
              "      <td>1180.078613</td>\n",
              "      <td>1045.242188</td>\n",
              "      <td>84.596741</td>\n",
              "      <td>1</td>\n",
              "    </tr>\n",
              "    <tr>\n",
              "      <th>4</th>\n",
              "      <td>2017-12-07</td>\n",
              "      <td>1180.455688</td>\n",
              "      <td>1045.517700</td>\n",
              "      <td>84.615929</td>\n",
              "      <td>1</td>\n",
              "    </tr>\n",
              "  </tbody>\n",
              "</table>\n",
              "</div>"
            ],
            "text/plain": [
              "          ds    GOOG_high    AMZN_high  MSFT_high  unique_id\n",
              "0 2017-12-01  1178.947144  1044.415527  84.539185          1\n",
              "1 2017-12-04  1179.324219  1044.691162  84.558372          1\n",
              "2 2017-12-05  1179.701416  1044.966675  84.577553          1\n",
              "3 2017-12-06  1180.078613  1045.242188  84.596741          1\n",
              "4 2017-12-07  1180.455688  1045.517700  84.615929          1"
            ]
          },
          "execution_count": 29,
          "metadata": {},
          "output_type": "execute_result"
        }
      ],
      "source": [
        "df_nix.set_index('ds',inplace = True)\n",
        "# Generate a date range from 2017-12-01 to 2017-12-31\n",
        "date_range = pd.date_range(start='2017-12-01', end='2017-12-31')\n",
        "forecasted_exog_df = pd.DataFrame({'ds': test.index})\n",
        "forecasted_exog_df['GOOG_high'] = forecast_exog('GOOG_high',20)\n",
        "forecasted_exog_df['AMZN_high'] = forecast_exog('AMZN_high',20)\n",
        "forecasted_exog_df['MSFT_high'] = forecast_exog('MSFT_high',20)\n",
        "forecasted_exog_df[\"unique_id\"] = 1\n",
        "forecasted_exog_df['ds'] = pd.to_datetime(forecasted_exog_df['ds'])\n",
        "forecasted_exog_df.head()\n"
      ]
    },
    {
      "cell_type": "code",
      "execution_count": null,
      "id": "cf510397",
      "metadata": {
        "id": "cf510397",
        "outputId": "b3ac5b33-5fc7-4585-9a9f-e81b8233dc55"
      },
      "outputs": [
        {
          "data": {
            "text/html": [
              "<div>\n",
              "<style scoped>\n",
              "    .dataframe tbody tr th:only-of-type {\n",
              "        vertical-align: middle;\n",
              "    }\n",
              "\n",
              "    .dataframe tbody tr th {\n",
              "        vertical-align: top;\n",
              "    }\n",
              "\n",
              "    .dataframe thead th {\n",
              "        text-align: right;\n",
              "    }\n",
              "</style>\n",
              "<table border=\"1\" class=\"dataframe\">\n",
              "  <thead>\n",
              "    <tr style=\"text-align: right;\">\n",
              "      <th></th>\n",
              "      <th>ds</th>\n",
              "      <th>AutoARIMA</th>\n",
              "      <th>AutoARIMA-lo-95</th>\n",
              "      <th>AutoARIMA-lo-90</th>\n",
              "      <th>AutoARIMA-hi-90</th>\n",
              "      <th>AutoARIMA-hi-95</th>\n",
              "    </tr>\n",
              "    <tr>\n",
              "      <th>unique_id</th>\n",
              "      <th></th>\n",
              "      <th></th>\n",
              "      <th></th>\n",
              "      <th></th>\n",
              "      <th></th>\n",
              "      <th></th>\n",
              "    </tr>\n",
              "  </thead>\n",
              "  <tbody>\n",
              "    <tr>\n",
              "      <th>1</th>\n",
              "      <td>2017-12-01</td>\n",
              "      <td>172.233612</td>\n",
              "      <td>170.377335</td>\n",
              "      <td>170.675781</td>\n",
              "      <td>173.791428</td>\n",
              "      <td>174.089874</td>\n",
              "    </tr>\n",
              "    <tr>\n",
              "      <th>1</th>\n",
              "      <td>2017-12-02</td>\n",
              "      <td>172.254959</td>\n",
              "      <td>169.502914</td>\n",
              "      <td>169.945374</td>\n",
              "      <td>174.564545</td>\n",
              "      <td>175.007004</td>\n",
              "    </tr>\n",
              "    <tr>\n",
              "      <th>1</th>\n",
              "      <td>2017-12-03</td>\n",
              "      <td>172.272125</td>\n",
              "      <td>168.905945</td>\n",
              "      <td>169.447144</td>\n",
              "      <td>175.097107</td>\n",
              "      <td>175.638306</td>\n",
              "    </tr>\n",
              "    <tr>\n",
              "      <th>1</th>\n",
              "      <td>2017-12-04</td>\n",
              "      <td>172.293182</td>\n",
              "      <td>168.418335</td>\n",
              "      <td>169.041306</td>\n",
              "      <td>175.545059</td>\n",
              "      <td>176.168030</td>\n",
              "    </tr>\n",
              "    <tr>\n",
              "      <th>1</th>\n",
              "      <td>2017-12-05</td>\n",
              "      <td>172.314850</td>\n",
              "      <td>167.989105</td>\n",
              "      <td>168.684570</td>\n",
              "      <td>175.945114</td>\n",
              "      <td>176.640579</td>\n",
              "    </tr>\n",
              "  </tbody>\n",
              "</table>\n",
              "</div>"
            ],
            "text/plain": [
              "                  ds   AutoARIMA  AutoARIMA-lo-95  AutoARIMA-lo-90  \\\n",
              "unique_id                                                            \n",
              "1         2017-12-01  172.233612       170.377335       170.675781   \n",
              "1         2017-12-02  172.254959       169.502914       169.945374   \n",
              "1         2017-12-03  172.272125       168.905945       169.447144   \n",
              "1         2017-12-04  172.293182       168.418335       169.041306   \n",
              "1         2017-12-05  172.314850       167.989105       168.684570   \n",
              "\n",
              "           AutoARIMA-hi-90  AutoARIMA-hi-95  \n",
              "unique_id                                    \n",
              "1               173.791428       174.089874  \n",
              "1               174.564545       175.007004  \n",
              "1               175.097107       175.638306  \n",
              "1               175.545059       176.168030  \n",
              "1               175.945114       176.640579  "
            ]
          },
          "execution_count": 30,
          "metadata": {},
          "output_type": "execute_result"
        }
      ],
      "source": [
        "#Get forecast\n",
        "arima_forecast = sf.forecast(h=20, X_df = forecasted_exog_df, level = [95,90])\n",
        "arima_forecast.head()"
      ]
    },
    {
      "cell_type": "markdown",
      "id": "276018f6",
      "metadata": {
        "id": "276018f6"
      },
      "source": [
        "### MAPE Result"
      ]
    },
    {
      "cell_type": "code",
      "execution_count": null,
      "id": "2cc8a439",
      "metadata": {
        "id": "2cc8a439",
        "outputId": "fd84dbb4-db6a-4417-d1e7-62efe827d19d"
      },
      "outputs": [
        {
          "name": "stdout",
          "output_type": "stream",
          "text": [
            "MAPE for ARIMAX model: 0.97%\n"
          ]
        }
      ],
      "source": [
        "mape_arimax = mean_absolute_percentage_error(test['AAPL_high'], arima_forecast['AutoARIMA'])\n",
        "print(f'MAPE for ARIMAX model: {mape_arimax * 100:.2f}%')\n"
      ]
    },
    {
      "cell_type": "markdown",
      "id": "3730952a",
      "metadata": {
        "id": "3730952a"
      },
      "source": [
        "\n",
        "### (ii) Vector Autoregression (10 marks)"
      ]
    },
    {
      "cell_type": "code",
      "execution_count": null,
      "id": "34226ab7",
      "metadata": {
        "id": "34226ab7"
      },
      "outputs": [],
      "source": [
        "data = data_pivoted\n",
        "# Train-test split using index locations\n",
        "split_date = '2017-11-30'\n",
        "start_date = '2017-12-01'\n",
        "train = data.loc[:split_date]\n",
        "test = data.loc[start_date:]\n"
      ]
    },
    {
      "cell_type": "code",
      "execution_count": null,
      "id": "2e35e930",
      "metadata": {
        "id": "2e35e930"
      },
      "outputs": [],
      "source": [
        "df = train"
      ]
    },
    {
      "cell_type": "markdown",
      "id": "631426fc",
      "metadata": {
        "id": "631426fc"
      },
      "source": [
        "### Checking Stationarity"
      ]
    },
    {
      "cell_type": "code",
      "execution_count": null,
      "id": "d7e5e708",
      "metadata": {
        "id": "d7e5e708",
        "outputId": "ad26e0dd-5250-405a-e723-9c5c3530005c"
      },
      "outputs": [
        {
          "name": "stdout",
          "output_type": "stream",
          "text": [
            "ADF Statistic: 0.8666903851471983\n",
            "p-value: 0.992639859985009\n",
            "ADF Statistic: 3.0100109063253533\n",
            "p-value: 1.0\n",
            "ADF Statistic: 1.1419006323205965\n",
            "p-value: 0.9955588302598822\n",
            "ADF Statistic: 2.0660764109042487\n",
            "p-value: 0.9987528941026637\n"
          ]
        }
      ],
      "source": [
        "def check_stationarity(series):\n",
        "    result = adfuller(series)\n",
        "    print(f'ADF Statistic: {result[0]}')\n",
        "    print(f'p-value: {result[1]}')\n",
        "    return result[1] > 0.05  # If p-value > 0.05, the series is non-stationary\n",
        "\n",
        "# Check stationarity and difference if needed\n",
        "for column in df.columns:\n",
        "    if check_stationarity(df[column]):\n",
        "        df[column] = df[column].diff().dropna()\n"
      ]
    },
    {
      "cell_type": "markdown",
      "id": "449c2479",
      "metadata": {
        "id": "449c2479"
      },
      "source": [
        "### Stationary After Differencing"
      ]
    },
    {
      "cell_type": "code",
      "execution_count": null,
      "id": "9f48df08",
      "metadata": {
        "id": "9f48df08",
        "outputId": "886d58a0-cf38-47d6-bef9-d748e43146d0"
      },
      "outputs": [
        {
          "name": "stdout",
          "output_type": "stream",
          "text": [
            "ADF Statistic: -17.079745392270983\n",
            "p-value: 7.721752149570396e-30\n",
            "ADF Statistic: -9.857597228912539\n",
            "p-value: 4.3178075888346405e-17\n",
            "ADF Statistic: -37.836473450187555\n",
            "p-value: 0.0\n",
            "ADF Statistic: -16.707308554760694\n",
            "p-value: 1.4443938329573098e-29\n"
          ]
        }
      ],
      "source": [
        "df.dropna(inplace = True)\n",
        "for column in df.columns:\n",
        "    check_stationarity(df[column])"
      ]
    },
    {
      "cell_type": "markdown",
      "id": "bbcf1534",
      "metadata": {
        "id": "bbcf1534"
      },
      "source": [
        "#### Lags Period"
      ]
    },
    {
      "cell_type": "code",
      "execution_count": null,
      "id": "d269a1cc",
      "metadata": {
        "id": "d269a1cc",
        "outputId": "90b9ae0f-15c7-47c7-f6da-ca6a8cf80526"
      },
      "outputs": [
        {
          "name": "stdout",
          "output_type": "stream",
          "text": [
            "Lag = 1\n",
            "AIC :  5.442005890565341\n",
            "Lag = 2\n",
            "AIC :  5.434884020574795\n",
            "Lag = 3\n",
            "AIC :  5.433685521067194\n",
            "Lag = 4\n",
            "AIC :  5.43697274410802\n",
            "Lag = 5\n",
            "AIC :  5.4191886097789865\n",
            "Lag = 6\n",
            "AIC :  5.422049050565172\n",
            "Lag = 7\n",
            "AIC :  5.42621441293653\n",
            "Lag = 8\n",
            "AIC :  5.429549427240073\n",
            "Lag = 9\n",
            "AIC :  5.433208643529191\n"
          ]
        },
        {
          "name": "stderr",
          "output_type": "stream",
          "text": [
            "C:\\Users\\DELL\\anaconda3\\lib\\site-packages\\statsmodels\\tsa\\base\\tsa_model.py:471: ValueWarning: A date index has been provided, but it has no associated frequency information and so will be ignored when e.g. forecasting.\n",
            "  self._init_dates(dates, freq)\n"
          ]
        }
      ],
      "source": [
        "var_model = VAR(df)\n",
        "for i in range(1,10):\n",
        "    result = var_model.fit(i)\n",
        "    print('Lag =', i)\n",
        "    print('AIC : ', result.aic)"
      ]
    },
    {
      "cell_type": "code",
      "execution_count": null,
      "id": "cb0286fb",
      "metadata": {
        "id": "cb0286fb",
        "outputId": "2745db12-79d9-4d49-a289-ddd9a79f741f"
      },
      "outputs": [
        {
          "data": {
            "text/html": [
              "<table class=\"simpletable\">\n",
              "<caption>VAR Order Selection (* highlights the minimums)</caption>\n",
              "<tr>\n",
              "   <td></td>      <th>AIC</th>         <th>BIC</th>         <th>FPE</th>        <th>HQIC</th>    \n",
              "</tr>\n",
              "<tr>\n",
              "  <th>0</th>  <td>     5.491</td>  <td>     5.499*</td> <td>     242.5</td>  <td>     5.494</td> \n",
              "</tr>\n",
              "<tr>\n",
              "  <th>1</th>  <td>     5.473</td>  <td>     5.514</td>  <td>     238.3</td>  <td>     5.488*</td>\n",
              "</tr>\n",
              "<tr>\n",
              "  <th>2</th>  <td>     5.465</td>  <td>     5.538</td>  <td>     236.2</td>  <td>     5.491</td> \n",
              "</tr>\n",
              "<tr>\n",
              "  <th>3</th>  <td>     5.463</td>  <td>     5.569</td>  <td>     235.8</td>  <td>     5.501</td> \n",
              "</tr>\n",
              "<tr>\n",
              "  <th>4</th>  <td>     5.465</td>  <td>     5.603</td>  <td>     236.3</td>  <td>     5.515</td> \n",
              "</tr>\n",
              "<tr>\n",
              "  <th>5</th>  <td>     5.446*</td> <td>     5.616</td>  <td>     231.8*</td> <td>     5.507</td> \n",
              "</tr>\n",
              "<tr>\n",
              "  <th>6</th>  <td>     5.448</td>  <td>     5.650</td>  <td>     232.2</td>  <td>     5.521</td> \n",
              "</tr>\n",
              "<tr>\n",
              "  <th>7</th>  <td>     5.451</td>  <td>     5.686</td>  <td>     232.9</td>  <td>     5.535</td> \n",
              "</tr>\n",
              "<tr>\n",
              "  <th>8</th>  <td>     5.453</td>  <td>     5.720</td>  <td>     233.4</td>  <td>     5.549</td> \n",
              "</tr>\n",
              "<tr>\n",
              "  <th>9</th>  <td>     5.455</td>  <td>     5.755</td>  <td>     234.0</td>  <td>     5.563</td> \n",
              "</tr>\n",
              "<tr>\n",
              "  <th>10</th> <td>     5.462</td>  <td>     5.795</td>  <td>     235.7</td>  <td>     5.582</td> \n",
              "</tr>\n",
              "<tr>\n",
              "  <th>11</th> <td>     5.461</td>  <td>     5.826</td>  <td>     235.3</td>  <td>     5.592</td> \n",
              "</tr>\n",
              "<tr>\n",
              "  <th>12</th> <td>     5.465</td>  <td>     5.862</td>  <td>     236.2</td>  <td>     5.608</td> \n",
              "</tr>\n",
              "<tr>\n",
              "  <th>13</th> <td>     5.467</td>  <td>     5.896</td>  <td>     236.6</td>  <td>     5.621</td> \n",
              "</tr>\n",
              "<tr>\n",
              "  <th>14</th> <td>     5.470</td>  <td>     5.932</td>  <td>     237.4</td>  <td>     5.636</td> \n",
              "</tr>\n",
              "<tr>\n",
              "  <th>15</th> <td>     5.472</td>  <td>     5.967</td>  <td>     238.0</td>  <td>     5.650</td> \n",
              "</tr>\n",
              "<tr>\n",
              "  <th>16</th> <td>     5.477</td>  <td>     6.003</td>  <td>     239.0</td>  <td>     5.666</td> \n",
              "</tr>\n",
              "<tr>\n",
              "  <th>17</th> <td>     5.477</td>  <td>     6.036</td>  <td>     239.2</td>  <td>     5.679</td> \n",
              "</tr>\n",
              "<tr>\n",
              "  <th>18</th> <td>     5.481</td>  <td>     6.072</td>  <td>     240.1</td>  <td>     5.694</td> \n",
              "</tr>\n",
              "<tr>\n",
              "  <th>19</th> <td>     5.479</td>  <td>     6.103</td>  <td>     239.5</td>  <td>     5.703</td> \n",
              "</tr>\n",
              "<tr>\n",
              "  <th>20</th> <td>     5.482</td>  <td>     6.138</td>  <td>     240.3</td>  <td>     5.718</td> \n",
              "</tr>\n",
              "<tr>\n",
              "  <th>21</th> <td>     5.484</td>  <td>     6.173</td>  <td>     240.8</td>  <td>     5.732</td> \n",
              "</tr>\n",
              "<tr>\n",
              "  <th>22</th> <td>     5.490</td>  <td>     6.211</td>  <td>     242.3</td>  <td>     5.750</td> \n",
              "</tr>\n",
              "<tr>\n",
              "  <th>23</th> <td>     5.494</td>  <td>     6.248</td>  <td>     243.3</td>  <td>     5.765</td> \n",
              "</tr>\n",
              "<tr>\n",
              "  <th>24</th> <td>     5.500</td>  <td>     6.286</td>  <td>     244.8</td>  <td>     5.783</td> \n",
              "</tr>\n",
              "<tr>\n",
              "  <th>25</th> <td>     5.504</td>  <td>     6.322</td>  <td>     245.6</td>  <td>     5.798</td> \n",
              "</tr>\n",
              "<tr>\n",
              "  <th>26</th> <td>     5.510</td>  <td>     6.361</td>  <td>     247.2</td>  <td>     5.816</td> \n",
              "</tr>\n",
              "<tr>\n",
              "  <th>27</th> <td>     5.513</td>  <td>     6.397</td>  <td>     248.0</td>  <td>     5.831</td> \n",
              "</tr>\n",
              "<tr>\n",
              "  <th>28</th> <td>     5.516</td>  <td>     6.431</td>  <td>     248.6</td>  <td>     5.845</td> \n",
              "</tr>\n",
              "<tr>\n",
              "  <th>29</th> <td>     5.515</td>  <td>     6.463</td>  <td>     248.4</td>  <td>     5.856</td> \n",
              "</tr>\n",
              "<tr>\n",
              "  <th>30</th> <td>     5.515</td>  <td>     6.496</td>  <td>     248.5</td>  <td>     5.868</td> \n",
              "</tr>\n",
              "<tr>\n",
              "  <th>31</th> <td>     5.523</td>  <td>     6.536</td>  <td>     250.5</td>  <td>     5.888</td> \n",
              "</tr>\n",
              "<tr>\n",
              "  <th>32</th> <td>     5.527</td>  <td>     6.572</td>  <td>     251.5</td>  <td>     5.903</td> \n",
              "</tr>\n",
              "<tr>\n",
              "  <th>33</th> <td>     5.528</td>  <td>     6.606</td>  <td>     251.8</td>  <td>     5.916</td> \n",
              "</tr>\n",
              "<tr>\n",
              "  <th>34</th> <td>     5.529</td>  <td>     6.639</td>  <td>     251.9</td>  <td>     5.928</td> \n",
              "</tr>\n",
              "<tr>\n",
              "  <th>35</th> <td>     5.534</td>  <td>     6.677</td>  <td>     253.3</td>  <td>     5.946</td> \n",
              "</tr>\n",
              "<tr>\n",
              "  <th>36</th> <td>     5.531</td>  <td>     6.706</td>  <td>     252.5</td>  <td>     5.954</td> \n",
              "</tr>\n",
              "<tr>\n",
              "  <th>37</th> <td>     5.532</td>  <td>     6.739</td>  <td>     252.6</td>  <td>     5.966</td> \n",
              "</tr>\n",
              "<tr>\n",
              "  <th>38</th> <td>     5.536</td>  <td>     6.776</td>  <td>     253.7</td>  <td>     5.982</td> \n",
              "</tr>\n",
              "<tr>\n",
              "  <th>39</th> <td>     5.536</td>  <td>     6.808</td>  <td>     253.7</td>  <td>     5.994</td> \n",
              "</tr>\n",
              "<tr>\n",
              "  <th>40</th> <td>     5.541</td>  <td>     6.845</td>  <td>     255.0</td>  <td>     6.010</td> \n",
              "</tr>\n",
              "</table>"
            ],
            "text/plain": [
              "<class 'statsmodels.iolib.table.SimpleTable'>"
            ]
          },
          "execution_count": 37,
          "metadata": {},
          "output_type": "execute_result"
        }
      ],
      "source": [
        "#Alternative method for Lags\n",
        "var_model.select_order(40).summary()"
      ]
    },
    {
      "cell_type": "code",
      "execution_count": null,
      "id": "3af87bec",
      "metadata": {
        "id": "3af87bec",
        "outputId": "d773a709-db74-4c97-8325-00213f2e7aee"
      },
      "outputs": [
        {
          "name": "stderr",
          "output_type": "stream",
          "text": [
            "C:\\Users\\DELL\\anaconda3\\lib\\site-packages\\statsmodels\\tsa\\base\\tsa_model.py:471: ValueWarning: A date index has been provided, but it has no associated frequency information and so will be ignored when e.g. forecasting.\n",
            "  self._init_dates(dates, freq)\n"
          ]
        },
        {
          "data": {
            "text/plain": [
              "  Summary of Regression Results   \n",
              "==================================\n",
              "Model:                         VAR\n",
              "Method:                        OLS\n",
              "Date:           Wed, 19, Jun, 2024\n",
              "Time:                     20:07:57\n",
              "--------------------------------------------------------------------\n",
              "No. of Equations:         4.00000    BIC:                    5.58769\n",
              "Nobs:                     2993.00    HQIC:                   5.47981\n",
              "Log likelihood:          -25013.3    FPE:                    225.696\n",
              "AIC:                      5.41919    Det(Omega_mle):         219.471\n",
              "--------------------------------------------------------------------\n",
              "Results for equation AAPL_high\n",
              "===============================================================================\n",
              "                  coefficient       std. error           t-stat            prob\n",
              "-------------------------------------------------------------------------------\n",
              "const                0.044305         0.018691            2.370           0.018\n",
              "L1.AAPL_high         0.099653         0.019628            5.077           0.000\n",
              "L1.GOOG_high         0.002474         0.003420            0.723           0.469\n",
              "L1.AMZN_high         0.005430         0.003521            1.542           0.123\n",
              "L1.MSFT_high         0.060054         0.041674            1.441           0.150\n",
              "L2.AAPL_high        -0.053777         0.019692           -2.731           0.006\n",
              "L2.GOOG_high         0.002452         0.003418            0.717           0.473\n",
              "L2.AMZN_high        -0.000621         0.003538           -0.176           0.861\n",
              "L2.MSFT_high        -0.008735         0.041682           -0.210           0.834\n",
              "L3.AAPL_high         0.002383         0.019753            0.121           0.904\n",
              "L3.GOOG_high        -0.008412         0.003421           -2.459           0.014\n",
              "L3.AMZN_high        -0.001647         0.003536           -0.466           0.641\n",
              "L3.MSFT_high         0.098454         0.041732            2.359           0.018\n",
              "L4.AAPL_high         0.050617         0.019765            2.561           0.010\n",
              "L4.GOOG_high        -0.003423         0.003429           -0.998           0.318\n",
              "L4.AMZN_high         0.002071         0.003523            0.588           0.557\n",
              "L4.MSFT_high        -0.041992         0.041706           -1.007           0.314\n",
              "L5.AAPL_high         0.000650         0.019672            0.033           0.974\n",
              "L5.GOOG_high         0.006329         0.003439            1.840           0.066\n",
              "L5.AMZN_high        -0.001084         0.003518           -0.308           0.758\n",
              "L5.MSFT_high         0.054601         0.041761            1.307           0.191\n",
              "===============================================================================\n",
              "\n",
              "Results for equation GOOG_high\n",
              "===============================================================================\n",
              "                  coefficient       std. error           t-stat            prob\n",
              "-------------------------------------------------------------------------------\n",
              "const                0.364975         0.115311            3.165           0.002\n",
              "L1.AAPL_high         0.136051         0.121094            1.124           0.261\n",
              "L1.GOOG_high         0.048832         0.021098            2.315           0.021\n",
              "L1.AMZN_high         0.049712         0.021723            2.288           0.022\n",
              "L1.MSFT_high         0.140742         0.257100            0.547           0.584\n",
              "L2.AAPL_high        -0.205792         0.121484           -1.694           0.090\n",
              "L2.GOOG_high        -0.034100         0.021090           -1.617           0.106\n",
              "L2.AMZN_high         0.007994         0.021829            0.366           0.714\n",
              "L2.MSFT_high        -0.279531         0.257152           -1.087           0.277\n",
              "L3.AAPL_high         0.269701         0.121860            2.213           0.027\n",
              "L3.GOOG_high        -0.034421         0.021105           -1.631           0.103\n",
              "L3.AMZN_high         0.016346         0.021812            0.749           0.454\n",
              "L3.MSFT_high        -0.167857         0.257457           -0.652           0.514\n",
              "L4.AAPL_high         0.150794         0.121939            1.237           0.216\n",
              "L4.GOOG_high        -0.035537         0.021157           -1.680           0.093\n",
              "L4.AMZN_high        -0.052943         0.021732           -2.436           0.015\n",
              "L4.MSFT_high         0.177832         0.257299            0.691           0.489\n",
              "L5.AAPL_high         0.027233         0.121361            0.224           0.822\n",
              "L5.GOOG_high         0.014245         0.021219            0.671           0.502\n",
              "L5.AMZN_high         0.123670         0.021706            5.698           0.000\n",
              "L5.MSFT_high        -1.538006         0.257635           -5.970           0.000\n",
              "===============================================================================\n",
              "\n",
              "Results for equation AMZN_high\n",
              "===============================================================================\n",
              "                  coefficient       std. error           t-stat            prob\n",
              "-------------------------------------------------------------------------------\n",
              "const                0.243924         0.117093            2.083           0.037\n",
              "L1.AAPL_high         0.191464         0.122965            1.557           0.119\n",
              "L1.GOOG_high        -0.002321         0.021424           -0.108           0.914\n",
              "L1.AMZN_high         0.102225         0.022059            4.634           0.000\n",
              "L1.MSFT_high         0.110372         0.261072            0.423           0.672\n",
              "L2.AAPL_high         0.327094         0.123361            2.652           0.008\n",
              "L2.GOOG_high        -0.033927         0.021415           -1.584           0.113\n",
              "L2.AMZN_high        -0.048444         0.022166           -2.186           0.029\n",
              "L2.MSFT_high         0.122846         0.261125            0.470           0.638\n",
              "L3.AAPL_high        -0.201176         0.123743           -1.626           0.104\n",
              "L3.GOOG_high         0.013368         0.021431            0.624           0.533\n",
              "L3.AMZN_high         0.007712         0.022149            0.348           0.728\n",
              "L3.MSFT_high         0.089000         0.261435            0.340           0.734\n",
              "L4.AAPL_high         0.207703         0.123823            1.677           0.093\n",
              "L4.GOOG_high        -0.010320         0.021483           -0.480           0.631\n",
              "L4.AMZN_high        -0.031436         0.022068           -1.425           0.154\n",
              "L4.MSFT_high         0.339065         0.261275            1.298           0.194\n",
              "L5.AAPL_high        -0.137404         0.123236           -1.115           0.265\n",
              "L5.GOOG_high         0.020736         0.021546            0.962           0.336\n",
              "L5.AMZN_high        -0.013515         0.022041           -0.613           0.540\n",
              "L5.MSFT_high        -0.336805         0.261615           -1.287           0.198\n",
              "===============================================================================\n",
              "\n",
              "Results for equation MSFT_high\n",
              "===============================================================================\n",
              "                  coefficient       std. error           t-stat            prob\n",
              "-------------------------------------------------------------------------------\n",
              "const                0.017012         0.009432            1.804           0.071\n",
              "L1.AAPL_high         0.000744         0.009905            0.075           0.940\n",
              "L1.GOOG_high         0.000519         0.001726            0.301           0.764\n",
              "L1.AMZN_high         0.005765         0.001777            3.244           0.001\n",
              "L1.MSFT_high         0.015853         0.021029            0.754           0.451\n",
              "L2.AAPL_high         0.000368         0.009937            0.037           0.970\n",
              "L2.GOOG_high         0.002085         0.001725            1.208           0.227\n",
              "L2.AMZN_high         0.000243         0.001785            0.136           0.892\n",
              "L2.MSFT_high        -0.053448         0.021033           -2.541           0.011\n",
              "L3.AAPL_high        -0.000316         0.009967           -0.032           0.975\n",
              "L3.GOOG_high         0.002239         0.001726            1.297           0.195\n",
              "L3.AMZN_high        -0.003281         0.001784           -1.839           0.066\n",
              "L3.MSFT_high         0.006263         0.021058            0.297           0.766\n",
              "L4.AAPL_high         0.018785         0.009974            1.883           0.060\n",
              "L4.GOOG_high        -0.001578         0.001730           -0.912           0.362\n",
              "L4.AMZN_high        -0.002687         0.001778           -1.512           0.131\n",
              "L4.MSFT_high         0.029023         0.021045            1.379           0.168\n",
              "L5.AAPL_high        -0.008980         0.009927           -0.905           0.366\n",
              "L5.GOOG_high         0.002131         0.001736            1.228           0.220\n",
              "L5.AMZN_high         0.002175         0.001775            1.225           0.221\n",
              "L5.MSFT_high        -0.050930         0.021073           -2.417           0.016\n",
              "===============================================================================\n",
              "\n",
              "Correlation matrix of residuals\n",
              "             AAPL_high  GOOG_high  AMZN_high  MSFT_high\n",
              "AAPL_high     1.000000   0.267483   0.311821   0.267754\n",
              "GOOG_high     0.267483   1.000000   0.459477   0.375327\n",
              "AMZN_high     0.311821   0.459477   1.000000   0.433153\n",
              "MSFT_high     0.267754   0.375327   0.433153   1.000000\n",
              "\n"
            ]
          },
          "execution_count": 38,
          "metadata": {},
          "output_type": "execute_result"
        }
      ],
      "source": [
        "var_model = VAR(df).fit(5)\n",
        "\n",
        "#Model summary\n",
        "var_model.summary()"
      ]
    },
    {
      "cell_type": "markdown",
      "id": "fbeaf515",
      "metadata": {
        "id": "fbeaf515"
      },
      "source": [
        "### Residual Analysis"
      ]
    },
    {
      "cell_type": "code",
      "execution_count": null,
      "id": "4f520d58",
      "metadata": {
        "id": "4f520d58",
        "outputId": "1a658e0a-ae33-43bb-db1c-974d0401c875"
      },
      "outputs": [
        {
          "data": {
            "image/png": "[encoded data removed]",
            "text/plain": [
              "<Figure size 432x288 with 1 Axes>"
            ]
          },
          "metadata": {
            "needs_background": "light"
          },
          "output_type": "display_data"
        },
        {
          "data": {
            "image/png": "[encoded data removed]",
            "text/plain": [
              "<Figure size 432x288 with 1 Axes>"
            ]
          },
          "metadata": {
            "needs_background": "light"
          },
          "output_type": "display_data"
        },
        {
          "data": {
            "image/png": "[encoded data removed]",
            "text/plain": [
              "<Figure size 432x288 with 1 Axes>"
            ]
          },
          "metadata": {
            "needs_background": "light"
          },
          "output_type": "display_data"
        }
      ],
      "source": [
        "#Residual analysis\n",
        "residuals = pd.DataFrame(var_model.resid)\n",
        "residuals.plot()\n",
        "plt.show()\n",
        "\n",
        "# Density plot of residuals\n",
        "residuals.plot(kind='kde')\n",
        "plt.show()\n",
        "\n",
        "#Plot Autocorrelation of Residuals\n",
        "plot_acf(residuals[\"AAPL_high\"], lags=20)\n",
        "plt.show()"
      ]
    },
    {
      "cell_type": "code",
      "execution_count": null,
      "id": "522515c3",
      "metadata": {
        "id": "522515c3",
        "outputId": "82797b6d-6234-4ac3-946f-35abbab175da"
      },
      "outputs": [
        {
          "data": {
            "text/plain": [
              "array([[ 0.1079968 , -0.44113913, -0.59707831, -0.11967646],\n",
              "       [ 0.33340307,  1.73759997,  1.65689236,  0.12304555],\n",
              "       [ 0.11162418,  1.05127134,  0.07009807,  0.02224609],\n",
              "       [-0.01288875, -1.1071236 ,  0.92776851,  0.01083428],\n",
              "       [-0.06057187, -1.07536719,  0.42837449, -0.01603771],\n",
              "       [ 0.02836056,  0.38895025,  0.3260343 ,  0.02371345],\n",
              "       [ 0.07800253,  0.54160669,  0.21831894,  0.011676  ],\n",
              "       [ 0.07340889,  0.40446008,  0.24537299,  0.01411689],\n",
              "       [ 0.04503487,  0.45396892,  0.22803588,  0.01760847],\n",
              "       [ 0.03699723,  0.41828975,  0.25645878,  0.01932752],\n",
              "       [ 0.05321154,  0.37876983,  0.26210273,  0.01972274],\n",
              "       [ 0.0556327 ,  0.38367527,  0.27217517,  0.02017601],\n",
              "       [ 0.05284036,  0.37500431,  0.27356286,  0.01920989],\n",
              "       [ 0.05296879,  0.37045671,  0.27193711,  0.01909929],\n",
              "       [ 0.05386697,  0.37564478,  0.27381887,  0.01943248],\n",
              "       [ 0.05383578,  0.3757444 ,  0.27187247,  0.01920507],\n",
              "       [ 0.05377761,  0.37568571,  0.27021929,  0.01909548],\n",
              "       [ 0.05366182,  0.37737216,  0.27061053,  0.01917284],\n",
              "       [ 0.05363074,  0.37731347,  0.27078902,  0.01919217],\n",
              "       [ 0.05368453,  0.3771165 ,  0.27051056,  0.01918551]])"
            ]
          },
          "execution_count": 40,
          "metadata": {},
          "output_type": "execute_result"
        }
      ],
      "source": [
        "#Check\n",
        "lag_order = 5\n",
        "var_forecast = var_model.forecast(df.values,20)\n",
        "var_forecast"
      ]
    },
    {
      "cell_type": "code",
      "execution_count": null,
      "id": "5f63c765",
      "metadata": {
        "id": "5f63c765",
        "outputId": "ab8f914b-ecc5-4324-e0ee-26c47ca05ed2"
      },
      "outputs": [
        {
          "name": "stdout",
          "output_type": "stream",
          "text": [
            "[172.58139987 173.43646085 173.19981405 172.14336909]\n",
            "[172.69302405 174.48773219 173.26991212 172.16561518]\n",
            "[172.68013529 173.38060859 174.19768063 172.17644947]\n",
            "[172.61956342 172.3052414  174.62605512 172.16041176]\n",
            "[172.64792398 172.69419165 174.95208942 172.18412521]\n",
            "[172.72592651 173.23579834 175.17040836 172.19580121]\n",
            "[172.7993354  173.64025842 175.41578135 172.2099181 ]\n",
            "[172.84437027 174.09422734 175.64381723 172.22752657]\n",
            "[172.88136751 174.51251709 175.90027602 172.24685409]\n",
            "[172.93457904 174.89128692 176.16237875 172.26657683]\n",
            "[172.99021174 175.27496219 176.43455392 172.28675284]\n",
            "[173.0430521  175.6499665  176.70811678 172.30596273]\n",
            "[173.09602089 176.02042321 176.98005388 172.32506202]\n",
            "[173.14988786 176.39606799 177.25387276 172.3444945 ]\n",
            "[173.20372364 176.7718124  177.52574523 172.36369957]\n",
            "[173.25750126 177.1474981  177.79596452 172.38279506]\n",
            "[173.31116308 177.52487026 178.06657505 172.4019679 ]\n",
            "[173.36479381 177.90218373 178.33736407 172.42116006]\n",
            "[173.41847834 178.27930023 178.60787463 172.44034557]\n"
          ]
        }
      ],
      "source": [
        "train = data.loc[:split_date]\n",
        "#Invert differencing and get final forecast\n",
        "var_forecast_inv_diff = train.loc[\"2017-11-30\",\"AAPL_high\"] + var_forecast[0]\n",
        "(var_forecast_inv_diff)\n",
        "\n",
        "for i in range(1,20):\n",
        "    var_forecast_inv_diff = var_forecast_inv_diff  + var_forecast[i]\n",
        "    print(var_forecast_inv_diff)"
      ]
    },
    {
      "cell_type": "code",
      "execution_count": null,
      "id": "55f0a37e",
      "metadata": {
        "id": "55f0a37e",
        "outputId": "a0585928-ad1d-4c0a-a912-af0578009ed0"
      },
      "outputs": [
        {
          "data": {
            "text/html": [
              "<div>\n",
              "<style scoped>\n",
              "    .dataframe tbody tr th:only-of-type {\n",
              "        vertical-align: middle;\n",
              "    }\n",
              "\n",
              "    .dataframe tbody tr th {\n",
              "        vertical-align: top;\n",
              "    }\n",
              "\n",
              "    .dataframe thead th {\n",
              "        text-align: right;\n",
              "    }\n",
              "</style>\n",
              "<table border=\"1\" class=\"dataframe\">\n",
              "  <thead>\n",
              "    <tr style=\"text-align: right;\">\n",
              "      <th></th>\n",
              "      <th>AAPL_high</th>\n",
              "      <th>GOOG_high</th>\n",
              "      <th>AMZN_high</th>\n",
              "      <th>MSFT_high</th>\n",
              "    </tr>\n",
              "    <tr>\n",
              "      <th>Date</th>\n",
              "      <th></th>\n",
              "      <th></th>\n",
              "      <th></th>\n",
              "      <th></th>\n",
              "    </tr>\n",
              "  </thead>\n",
              "  <tbody>\n",
              "    <tr>\n",
              "      <th>2017-12-01</th>\n",
              "      <td>172.247997</td>\n",
              "      <td>171.698861</td>\n",
              "      <td>171.542922</td>\n",
              "      <td>172.020324</td>\n",
              "    </tr>\n",
              "    <tr>\n",
              "      <th>2017-12-04</th>\n",
              "      <td>172.581400</td>\n",
              "      <td>173.436461</td>\n",
              "      <td>173.199814</td>\n",
              "      <td>172.143369</td>\n",
              "    </tr>\n",
              "    <tr>\n",
              "      <th>2017-12-05</th>\n",
              "      <td>172.693024</td>\n",
              "      <td>174.487732</td>\n",
              "      <td>173.269912</td>\n",
              "      <td>172.165615</td>\n",
              "    </tr>\n",
              "    <tr>\n",
              "      <th>2017-12-06</th>\n",
              "      <td>172.680135</td>\n",
              "      <td>173.380609</td>\n",
              "      <td>174.197681</td>\n",
              "      <td>172.176449</td>\n",
              "    </tr>\n",
              "    <tr>\n",
              "      <th>2017-12-07</th>\n",
              "      <td>172.619563</td>\n",
              "      <td>172.305241</td>\n",
              "      <td>174.626055</td>\n",
              "      <td>172.160412</td>\n",
              "    </tr>\n",
              "  </tbody>\n",
              "</table>\n",
              "</div>"
            ],
            "text/plain": [
              "             AAPL_high   GOOG_high   AMZN_high   MSFT_high\n",
              "Date                                                      \n",
              "2017-12-01  172.247997  171.698861  171.542922  172.020324\n",
              "2017-12-04  172.581400  173.436461  173.199814  172.143369\n",
              "2017-12-05  172.693024  174.487732  173.269912  172.165615\n",
              "2017-12-06  172.680135  173.380609  174.197681  172.176449\n",
              "2017-12-07  172.619563  172.305241  174.626055  172.160412"
            ]
          },
          "execution_count": 42,
          "metadata": {},
          "output_type": "execute_result"
        }
      ],
      "source": [
        "var_forecast_inv_diff = train.loc[\"2017-11-30\",\"AAPL_high\"] + var_forecast[0]\n",
        "forecast_values = [var_forecast_inv_diff]\n",
        "\n",
        "for i in range(1, 20):\n",
        "    var_forecast_inv_diff = var_forecast_inv_diff + var_forecast[i]\n",
        "    forecast_values.append(var_forecast_inv_diff)\n",
        "\n",
        "forcasted_df = pd.DataFrame(forecast_values, columns = ['AAPL_high', 'GOOG_high', 'AMZN_high', 'MSFT_high']).set_index(test.index)\n",
        "forcasted_df.head()"
      ]
    },
    {
      "cell_type": "markdown",
      "id": "2dda97f7",
      "metadata": {
        "id": "2dda97f7"
      },
      "source": [
        "### MAPE Result"
      ]
    },
    {
      "cell_type": "code",
      "execution_count": null,
      "id": "428645c1",
      "metadata": {
        "id": "428645c1",
        "outputId": "27d9be15-bdad-4a2b-9de8-95cd69948ff4"
      },
      "outputs": [
        {
          "name": "stdout",
          "output_type": "stream",
          "text": [
            "MAPE for VAR model: 0.97%\n"
          ]
        }
      ],
      "source": [
        "mape_vag = mean_absolute_percentage_error(test['AAPL_high'], forcasted_df['AAPL_high'])\n",
        "print(f'MAPE for VAR model: {mape_arimax * 100:.2f}%')\n"
      ]
    },
    {
      "cell_type": "code",
      "execution_count": null,
      "id": "2bd242fc",
      "metadata": {
        "id": "2bd242fc"
      },
      "outputs": [],
      "source": []
    }
  ],
  "metadata": {
    "kernelspec": {
      "display_name": "Python 3 (ipykernel)",
      "language": "python",
      "name": "python3"
    },
    "language_info": {
      "codemirror_mode": {
        "name": "ipython",
        "version": 3
      },
      "file_extension": ".py",
      "mimetype": "text/x-python",
      "name": "python",
      "nbconvert_exporter": "python",
      "pygments_lexer": "ipython3",
      "version": "3.9.12"
    },
    "colab": {
      "provenance": []
    }
  },
  "nbformat": 4,
  "nbformat_minor": 5
}